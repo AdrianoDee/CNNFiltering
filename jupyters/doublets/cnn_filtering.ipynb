{
 "cells": [
  {
   "cell_type": "code",
   "execution_count": 1,
   "metadata": {
    "scrolled": true
   },
   "outputs": [
    {
     "name": "stderr",
     "output_type": "stream",
     "text": [
      "Using TensorFlow backend.\n"
     ]
    }
   ],
   "source": [
    "import argparse\n",
    "import datetime\n",
    "import json\n",
    "import tempfile\n",
    "import os\n",
    "from dataset import *\n",
    "from keras.callbacks import EarlyStopping, ModelCheckpoint, TensorBoard\n",
    "from model_architectures import *\n",
    "import sys\n",
    "import numpy as np\n",
    "import itertools\n",
    "import pickle\n",
    "from random import shuffle\n",
    "from sklearn.model_selection import StratifiedKFold"
   ]
  },
  {
   "cell_type": "code",
   "execution_count": 23,
   "metadata": {},
   "outputs": [],
   "source": [
    "remote_data = \"../doublets_sample/\""
   ]
  },
  {
   "cell_type": "code",
   "execution_count": null,
   "metadata": {
    "collapsed": true
   },
   "outputs": [],
   "source": [
    "train_files = [remote_data + '/train/' +\n",
    "               el for el in os.listdir(remote_data + 'train/')] if not args.debug else debug_files\n",
    "val_files = [remote_data + 'val/' +\n",
    "             el for el in os.listdir(remote_data + 'val/')]\n",
    "test_files = [remote_data + 'test/' +\n",
    "             el for el in os.listdir(remote_data + 'test/')]\n",
    "\n",
    "shuffle(val_files)\n",
    "shuffle(test_files)\n",
    "shuffle(train_files)"
   ]
  },
  {
   "cell_type": "code",
   "execution_count": null,
   "metadata": {},
   "outputs": [],
   "source": [
    "X_val_hit, X_val_info, y_val = val_data.get_layer_map_data()\n",
    "X_test_hit, X_test_info, y_test = test_data.get_layer_map_data()\n",
    "X_hit, X_info, y = train_data.get_layer_map_data()"
   ]
  }
 ],
 "metadata": {
  "kernelspec": {
   "display_name": "Python 2",
   "language": "python",
   "name": "python2"
  },
  "language_info": {
   "codemirror_mode": {
    "name": "ipython",
    "version": 2
   },
   "file_extension": ".py",
   "mimetype": "text/x-python",
   "name": "python",
   "nbconvert_exporter": "python",
   "pygments_lexer": "ipython2",
   "version": "2.7.13"
  }
 },
 "nbformat": 4,
 "nbformat_minor": 2
}
