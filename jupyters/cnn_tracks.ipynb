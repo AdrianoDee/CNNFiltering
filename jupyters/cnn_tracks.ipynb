{
 "cells": [
  {
   "cell_type": "code",
   "execution_count": 44,
   "metadata": {
    "collapsed": true
   },
   "outputs": [],
   "source": [
    "import pandas as pd\n",
    "import numpy as np\n",
    "import random"
   ]
  },
  {
   "cell_type": "code",
   "execution_count": 43,
   "metadata": {
    "collapsed": true
   },
   "outputs": [],
   "source": [
    "from matplotlib import pyplot as plt"
   ]
  },
  {
   "cell_type": "code",
   "execution_count": 14,
   "metadata": {
    "collapsed": true
   },
   "outputs": [],
   "source": [
    "padshape = 16"
   ]
  },
  {
   "cell_type": "code",
   "execution_count": 60,
   "metadata": {},
   "outputs": [],
   "source": [
    "target_lab = \"label\"\n",
    "\n",
    "pdg_lab = \"inTpPdgId\"\n",
    "\n",
    "headLab = [\"run\",\"evt\",\"lumi\",\"bSX\",\"bSY\",\"bSZ\",\"bSdZ\"]\n",
    "\n",
    "particle = [\"TId\",\"Px\",\"Py\",\"Pz\",\"Pt\",\"MT\",\"ET\",\"MSqr\",\"PdgId\",\n",
    "                \"Charge\",\"NTrackerHits\",\"NTrackerLayers\",\"Phi\",\"Eta\",\"Rapidity\",\n",
    "                \"VX\",\"VY\",\"VZ\",\"DXY\",\"DZ\",\"BunchCrossing\",\"IsChargeMatched\",\n",
    "                \"IsSigSimMatched\",\"SharedFraction\",\"NumAssocRecoTracks\"]\n",
    "\n",
    "\n",
    "\n",
    "hitCoord = [\"X\",\"Y\",\"Z\",\"Phi\",\"R\"] #5\n",
    "\n",
    "hitDet = [\"IsBarrel\",\"Layer\",\"Ladder\",\"Side\",\"Disk\",\"Panel\",\"Module\"]#,\"IsFlipped\",\"Ax1\",\"Ax2\"] #12\n",
    "\n",
    "hitClust = [\"ClustX\",\"ClustY\",\"ClustSize\",\"ClustSizeX\",\"ClustSizeY\",\"PixelZero\",\n",
    "            \"AvgCharge\",\"OverFlowX\",\"OverFlowY\",\"Skew\",\"IsBig\",\"IsBad\",\"IsEdge\"] #13\n",
    "\n",
    "hitPixel = [\"Pix\" + str(el) for el in range(1, padshape*padshape + 1)]\n",
    "\n",
    "hitCharge = [\"SumADC\"]\n",
    "\n",
    "hitLabs = hitCoord + hitDet + hitClust + hitPixel + hitCharge\n",
    "hitsLabs = []\n",
    "\n",
    "for j in range(10):\n",
    "    hitsLabs.append([\"hit_\" + str(j) + \"_\" + str(i) for i in hitLabs])\n",
    "\n",
    "hitPixels = []\n",
    "for j in range(10):\n",
    "    hitPixels.append([\"hit_\" + str(j) + \"_\" + str(i) for i in  hitPixel])\n",
    "    \n",
    "hitCoords = []\n",
    "for j in range(10):\n",
    "    hitCoords.append([\"hit_\" + str(j) + \"_\" + str(i) for i in  hitCoord])\n",
    "\n",
    "hitFeatures = hitCoord + hitDet + hitClust + hitCharge # 5 + 12 + 13 + 1 = 31\n",
    "hitsFeatures = []\n",
    "\n",
    "for j in range(10):\n",
    "    hitsFeatures.append([\"hit_\" + str(j) + \"_\" + str(i) for i in hitFeatures])\n",
    "\n",
    "hitDets = []\n",
    "\n",
    "for j in range(10):\n",
    "    hitDets.append([\"hit_\" + str(j) + \"_\" + str(i) for i in hitDet])\n",
    "\n",
    "\n",
    "#featureLabs = inHitFeature + outHitFeature + differences\n",
    "\n",
    "dataLab = headLab \n",
    "\n",
    "dataLab += particle \n",
    "\n",
    "for j in range(10):\n",
    "    dataLab += hitsLabs[j]\n",
    "\n",
    "dataLab += [\"dummyFlag\"]\n",
    "\n",
    "layer_ids = [0, 1, 2, 3, 14, 15, 16, 29, 30, 31]\n",
    "\n",
    "particle_ids = [-1.,11.,13.,15.,22.,111.,211.,311.,321.,2212.,2112.,3122.,223.]\n",
    "\n",
    "main_pdgs = [11.,13.,211.,321.,2212.]\n",
    "\n",
    "layer_ids = [0, 1, 2, 3, 14, 15, 16, 29, 30, 31]\n",
    "\n",
    "particle_ids = [-1.,11.,13.,15.,22.,111.,211.,311.,321.,2212.,2112.,3122.,223.]\n",
    "\n",
    "main_pdgs = [11.,13.,211.,321.,2212.]"
   ]
  },
  {
   "cell_type": "code",
   "execution_count": 10,
   "metadata": {
    "collapsed": true
   },
   "outputs": [],
   "source": [
    "path = \"./samples/\"\n",
    "d = \"2_30_Apr18_cnn_tracks_00.txt\"\n",
    "dfTracks = 0\n",
    "dfDoublets = 0\n",
    "with open(path + d, 'rb') as df:\n",
    "    dfTracks = pd.read_table(df, sep=\"\\t\", header = None)"
   ]
  },
  {
   "cell_type": "code",
   "execution_count": 11,
   "metadata": {},
   "outputs": [
    {
     "data": {
      "text/html": [
       "<div>\n",
       "<table border=\"1\" class=\"dataframe\">\n",
       "  <thead>\n",
       "    <tr style=\"text-align: right;\">\n",
       "      <th></th>\n",
       "      <th>0</th>\n",
       "      <th>1</th>\n",
       "      <th>2</th>\n",
       "      <th>3</th>\n",
       "      <th>4</th>\n",
       "      <th>5</th>\n",
       "      <th>6</th>\n",
       "      <th>7</th>\n",
       "      <th>8</th>\n",
       "      <th>9</th>\n",
       "      <th>...</th>\n",
       "      <th>2843</th>\n",
       "      <th>2844</th>\n",
       "      <th>2845</th>\n",
       "      <th>2846</th>\n",
       "      <th>2847</th>\n",
       "      <th>2848</th>\n",
       "      <th>2849</th>\n",
       "      <th>2850</th>\n",
       "      <th>2851</th>\n",
       "      <th>2852</th>\n",
       "    </tr>\n",
       "  </thead>\n",
       "  <tbody>\n",
       "    <tr>\n",
       "      <th>0</th>\n",
       "      <td>1</td>\n",
       "      <td>10</td>\n",
       "      <td>1</td>\n",
       "      <td>-0.024794</td>\n",
       "      <td>0.069286</td>\n",
       "      <td>0.789895</td>\n",
       "      <td>3.4978</td>\n",
       "      <td>0</td>\n",
       "      <td>-135.4660</td>\n",
       "      <td>-61.64600</td>\n",
       "      <td>...</td>\n",
       "      <td>-0.01</td>\n",
       "      <td>-0.01</td>\n",
       "      <td>-0.01</td>\n",
       "      <td>-0.01</td>\n",
       "      <td>-0.01</td>\n",
       "      <td>-0.01</td>\n",
       "      <td>-0.01</td>\n",
       "      <td>-0.01</td>\n",
       "      <td>-0.01</td>\n",
       "      <td>542.137</td>\n",
       "    </tr>\n",
       "    <tr>\n",
       "      <th>1</th>\n",
       "      <td>1</td>\n",
       "      <td>10</td>\n",
       "      <td>1</td>\n",
       "      <td>-0.024794</td>\n",
       "      <td>0.069286</td>\n",
       "      <td>0.789895</td>\n",
       "      <td>3.4978</td>\n",
       "      <td>1</td>\n",
       "      <td>-17.9226</td>\n",
       "      <td>-9.57021</td>\n",
       "      <td>...</td>\n",
       "      <td>-0.01</td>\n",
       "      <td>-0.01</td>\n",
       "      <td>-0.01</td>\n",
       "      <td>-0.01</td>\n",
       "      <td>-0.01</td>\n",
       "      <td>-0.01</td>\n",
       "      <td>-0.01</td>\n",
       "      <td>-0.01</td>\n",
       "      <td>-0.01</td>\n",
       "      <td>542.137</td>\n",
       "    </tr>\n",
       "    <tr>\n",
       "      <th>2</th>\n",
       "      <td>1</td>\n",
       "      <td>10</td>\n",
       "      <td>1</td>\n",
       "      <td>-0.024794</td>\n",
       "      <td>0.069286</td>\n",
       "      <td>0.789895</td>\n",
       "      <td>3.4978</td>\n",
       "      <td>2</td>\n",
       "      <td>-556.8990</td>\n",
       "      <td>-425.42800</td>\n",
       "      <td>...</td>\n",
       "      <td>-0.01</td>\n",
       "      <td>-0.01</td>\n",
       "      <td>-0.01</td>\n",
       "      <td>-0.01</td>\n",
       "      <td>-0.01</td>\n",
       "      <td>-0.01</td>\n",
       "      <td>-0.01</td>\n",
       "      <td>-0.01</td>\n",
       "      <td>-0.01</td>\n",
       "      <td>542.137</td>\n",
       "    </tr>\n",
       "    <tr>\n",
       "      <th>3</th>\n",
       "      <td>1</td>\n",
       "      <td>10</td>\n",
       "      <td>1</td>\n",
       "      <td>-0.024794</td>\n",
       "      <td>0.069286</td>\n",
       "      <td>0.789895</td>\n",
       "      <td>3.4978</td>\n",
       "      <td>3</td>\n",
       "      <td>-440.7360</td>\n",
       "      <td>-716.69000</td>\n",
       "      <td>...</td>\n",
       "      <td>-0.01</td>\n",
       "      <td>-0.01</td>\n",
       "      <td>-0.01</td>\n",
       "      <td>-0.01</td>\n",
       "      <td>-0.01</td>\n",
       "      <td>-0.01</td>\n",
       "      <td>-0.01</td>\n",
       "      <td>-0.01</td>\n",
       "      <td>-0.01</td>\n",
       "      <td>542.137</td>\n",
       "    </tr>\n",
       "    <tr>\n",
       "      <th>4</th>\n",
       "      <td>1</td>\n",
       "      <td>10</td>\n",
       "      <td>1</td>\n",
       "      <td>-0.024794</td>\n",
       "      <td>0.069286</td>\n",
       "      <td>0.789895</td>\n",
       "      <td>3.4978</td>\n",
       "      <td>4</td>\n",
       "      <td>38.9291</td>\n",
       "      <td>-361.20800</td>\n",
       "      <td>...</td>\n",
       "      <td>-0.01</td>\n",
       "      <td>-0.01</td>\n",
       "      <td>-0.01</td>\n",
       "      <td>-0.01</td>\n",
       "      <td>-0.01</td>\n",
       "      <td>-0.01</td>\n",
       "      <td>-0.01</td>\n",
       "      <td>-0.01</td>\n",
       "      <td>-0.01</td>\n",
       "      <td>542.137</td>\n",
       "    </tr>\n",
       "  </tbody>\n",
       "</table>\n",
       "<p>5 rows × 2853 columns</p>\n",
       "</div>"
      ],
      "text/plain": [
       "   0     1     2         3         4         5       6     7         8     \\\n",
       "0     1    10     1 -0.024794  0.069286  0.789895  3.4978     0 -135.4660   \n",
       "1     1    10     1 -0.024794  0.069286  0.789895  3.4978     1  -17.9226   \n",
       "2     1    10     1 -0.024794  0.069286  0.789895  3.4978     2 -556.8990   \n",
       "3     1    10     1 -0.024794  0.069286  0.789895  3.4978     3 -440.7360   \n",
       "4     1    10     1 -0.024794  0.069286  0.789895  3.4978     4   38.9291   \n",
       "\n",
       "        9      ...     2843  2844  2845  2846  2847  2848  2849  2850  2851  \\\n",
       "0  -61.64600   ...    -0.01 -0.01 -0.01 -0.01 -0.01 -0.01 -0.01 -0.01 -0.01   \n",
       "1   -9.57021   ...    -0.01 -0.01 -0.01 -0.01 -0.01 -0.01 -0.01 -0.01 -0.01   \n",
       "2 -425.42800   ...    -0.01 -0.01 -0.01 -0.01 -0.01 -0.01 -0.01 -0.01 -0.01   \n",
       "3 -716.69000   ...    -0.01 -0.01 -0.01 -0.01 -0.01 -0.01 -0.01 -0.01 -0.01   \n",
       "4 -361.20800   ...    -0.01 -0.01 -0.01 -0.01 -0.01 -0.01 -0.01 -0.01 -0.01   \n",
       "\n",
       "      2852  \n",
       "0  542.137  \n",
       "1  542.137  \n",
       "2  542.137  \n",
       "3  542.137  \n",
       "4  542.137  \n",
       "\n",
       "[5 rows x 2853 columns]"
      ]
     },
     "execution_count": 11,
     "metadata": {},
     "output_type": "execute_result"
    }
   ],
   "source": [
    "dfTracks.head()"
   ]
  },
  {
   "cell_type": "code",
   "execution_count": 27,
   "metadata": {},
   "outputs": [
    {
     "name": "stdout",
     "output_type": "stream",
     "text": [
      "2853\n",
      "26\n"
     ]
    }
   ],
   "source": [
    "print(len(dataLab))\n",
    "#print(dataLab)\n",
    "print(len(hitLabs)-256)"
   ]
  },
  {
   "cell_type": "code",
   "execution_count": 39,
   "metadata": {
    "collapsed": true
   },
   "outputs": [],
   "source": [
    "dfTracks.columns = dataLab"
   ]
  },
  {
   "cell_type": "code",
   "execution_count": 40,
   "metadata": {},
   "outputs": [
    {
     "data": {
      "text/html": [
       "<div>\n",
       "<table border=\"1\" class=\"dataframe\">\n",
       "  <thead>\n",
       "    <tr style=\"text-align: right;\">\n",
       "      <th></th>\n",
       "      <th>hit_0_X</th>\n",
       "      <th>hit_0_Y</th>\n",
       "      <th>hit_0_Z</th>\n",
       "      <th>hit_0_Phi</th>\n",
       "      <th>hit_0_R</th>\n",
       "    </tr>\n",
       "  </thead>\n",
       "  <tbody>\n",
       "    <tr>\n",
       "      <th>0</th>\n",
       "      <td>-2.833610</td>\n",
       "      <td>-1.20714</td>\n",
       "      <td>3.80100</td>\n",
       "      <td>-2.73887</td>\n",
       "      <td>3.08002</td>\n",
       "    </tr>\n",
       "    <tr>\n",
       "      <th>1</th>\n",
       "      <td>-2.780240</td>\n",
       "      <td>-1.39430</td>\n",
       "      <td>3.41131</td>\n",
       "      <td>-2.67674</td>\n",
       "      <td>3.11028</td>\n",
       "    </tr>\n",
       "    <tr>\n",
       "      <th>2</th>\n",
       "      <td>-2.252600</td>\n",
       "      <td>-1.63111</td>\n",
       "      <td>1.78253</td>\n",
       "      <td>-2.51487</td>\n",
       "      <td>2.78113</td>\n",
       "    </tr>\n",
       "    <tr>\n",
       "      <th>3</th>\n",
       "      <td>-1.511340</td>\n",
       "      <td>-2.34875</td>\n",
       "      <td>9.04818</td>\n",
       "      <td>-2.14256</td>\n",
       "      <td>2.79298</td>\n",
       "    </tr>\n",
       "    <tr>\n",
       "      <th>4</th>\n",
       "      <td>0.280147</td>\n",
       "      <td>-2.76784</td>\n",
       "      <td>9.73479</td>\n",
       "      <td>-1.46992</td>\n",
       "      <td>2.78198</td>\n",
       "    </tr>\n",
       "  </tbody>\n",
       "</table>\n",
       "</div>"
      ],
      "text/plain": [
       "    hit_0_X  hit_0_Y  hit_0_Z  hit_0_Phi  hit_0_R\n",
       "0 -2.833610 -1.20714  3.80100   -2.73887  3.08002\n",
       "1 -2.780240 -1.39430  3.41131   -2.67674  3.11028\n",
       "2 -2.252600 -1.63111  1.78253   -2.51487  2.78113\n",
       "3 -1.511340 -2.34875  9.04818   -2.14256  2.79298\n",
       "4  0.280147 -2.76784  9.73479   -1.46992  2.78198"
      ]
     },
     "execution_count": 40,
     "metadata": {},
     "output_type": "execute_result"
    }
   ],
   "source": [
    "dfTracks[hitCoords[0]].head()"
   ]
  },
  {
   "cell_type": "code",
   "execution_count": 41,
   "metadata": {},
   "outputs": [
    {
     "data": {
      "text/html": [
       "<div>\n",
       "<table border=\"1\" class=\"dataframe\">\n",
       "  <thead>\n",
       "    <tr style=\"text-align: right;\">\n",
       "      <th></th>\n",
       "      <th>run</th>\n",
       "      <th>evt</th>\n",
       "      <th>lumi</th>\n",
       "      <th>bSX</th>\n",
       "      <th>bSY</th>\n",
       "      <th>bSZ</th>\n",
       "      <th>bSdZ</th>\n",
       "      <th>TId</th>\n",
       "      <th>Px</th>\n",
       "      <th>Py</th>\n",
       "      <th>...</th>\n",
       "      <th>hit_9_Pix249</th>\n",
       "      <th>hit_9_Pix250</th>\n",
       "      <th>hit_9_Pix251</th>\n",
       "      <th>hit_9_Pix252</th>\n",
       "      <th>hit_9_Pix253</th>\n",
       "      <th>hit_9_Pix254</th>\n",
       "      <th>hit_9_Pix255</th>\n",
       "      <th>hit_9_Pix256</th>\n",
       "      <th>hit_9_SumADC</th>\n",
       "      <th>dummyFlag</th>\n",
       "    </tr>\n",
       "  </thead>\n",
       "  <tbody>\n",
       "    <tr>\n",
       "      <th>0</th>\n",
       "      <td>1</td>\n",
       "      <td>10</td>\n",
       "      <td>1</td>\n",
       "      <td>-0.024794</td>\n",
       "      <td>0.069286</td>\n",
       "      <td>0.789895</td>\n",
       "      <td>3.4978</td>\n",
       "      <td>0</td>\n",
       "      <td>-135.4660</td>\n",
       "      <td>-61.64600</td>\n",
       "      <td>...</td>\n",
       "      <td>-0.01</td>\n",
       "      <td>-0.01</td>\n",
       "      <td>-0.01</td>\n",
       "      <td>-0.01</td>\n",
       "      <td>-0.01</td>\n",
       "      <td>-0.01</td>\n",
       "      <td>-0.01</td>\n",
       "      <td>-0.01</td>\n",
       "      <td>-0.01</td>\n",
       "      <td>542.137</td>\n",
       "    </tr>\n",
       "    <tr>\n",
       "      <th>1</th>\n",
       "      <td>1</td>\n",
       "      <td>10</td>\n",
       "      <td>1</td>\n",
       "      <td>-0.024794</td>\n",
       "      <td>0.069286</td>\n",
       "      <td>0.789895</td>\n",
       "      <td>3.4978</td>\n",
       "      <td>1</td>\n",
       "      <td>-17.9226</td>\n",
       "      <td>-9.57021</td>\n",
       "      <td>...</td>\n",
       "      <td>-0.01</td>\n",
       "      <td>-0.01</td>\n",
       "      <td>-0.01</td>\n",
       "      <td>-0.01</td>\n",
       "      <td>-0.01</td>\n",
       "      <td>-0.01</td>\n",
       "      <td>-0.01</td>\n",
       "      <td>-0.01</td>\n",
       "      <td>-0.01</td>\n",
       "      <td>542.137</td>\n",
       "    </tr>\n",
       "    <tr>\n",
       "      <th>2</th>\n",
       "      <td>1</td>\n",
       "      <td>10</td>\n",
       "      <td>1</td>\n",
       "      <td>-0.024794</td>\n",
       "      <td>0.069286</td>\n",
       "      <td>0.789895</td>\n",
       "      <td>3.4978</td>\n",
       "      <td>2</td>\n",
       "      <td>-556.8990</td>\n",
       "      <td>-425.42800</td>\n",
       "      <td>...</td>\n",
       "      <td>-0.01</td>\n",
       "      <td>-0.01</td>\n",
       "      <td>-0.01</td>\n",
       "      <td>-0.01</td>\n",
       "      <td>-0.01</td>\n",
       "      <td>-0.01</td>\n",
       "      <td>-0.01</td>\n",
       "      <td>-0.01</td>\n",
       "      <td>-0.01</td>\n",
       "      <td>542.137</td>\n",
       "    </tr>\n",
       "    <tr>\n",
       "      <th>3</th>\n",
       "      <td>1</td>\n",
       "      <td>10</td>\n",
       "      <td>1</td>\n",
       "      <td>-0.024794</td>\n",
       "      <td>0.069286</td>\n",
       "      <td>0.789895</td>\n",
       "      <td>3.4978</td>\n",
       "      <td>3</td>\n",
       "      <td>-440.7360</td>\n",
       "      <td>-716.69000</td>\n",
       "      <td>...</td>\n",
       "      <td>-0.01</td>\n",
       "      <td>-0.01</td>\n",
       "      <td>-0.01</td>\n",
       "      <td>-0.01</td>\n",
       "      <td>-0.01</td>\n",
       "      <td>-0.01</td>\n",
       "      <td>-0.01</td>\n",
       "      <td>-0.01</td>\n",
       "      <td>-0.01</td>\n",
       "      <td>542.137</td>\n",
       "    </tr>\n",
       "    <tr>\n",
       "      <th>4</th>\n",
       "      <td>1</td>\n",
       "      <td>10</td>\n",
       "      <td>1</td>\n",
       "      <td>-0.024794</td>\n",
       "      <td>0.069286</td>\n",
       "      <td>0.789895</td>\n",
       "      <td>3.4978</td>\n",
       "      <td>4</td>\n",
       "      <td>38.9291</td>\n",
       "      <td>-361.20800</td>\n",
       "      <td>...</td>\n",
       "      <td>-0.01</td>\n",
       "      <td>-0.01</td>\n",
       "      <td>-0.01</td>\n",
       "      <td>-0.01</td>\n",
       "      <td>-0.01</td>\n",
       "      <td>-0.01</td>\n",
       "      <td>-0.01</td>\n",
       "      <td>-0.01</td>\n",
       "      <td>-0.01</td>\n",
       "      <td>542.137</td>\n",
       "    </tr>\n",
       "  </tbody>\n",
       "</table>\n",
       "<p>5 rows × 2853 columns</p>\n",
       "</div>"
      ],
      "text/plain": [
       "   run  evt  lumi       bSX       bSY       bSZ    bSdZ  TId        Px  \\\n",
       "0    1   10     1 -0.024794  0.069286  0.789895  3.4978    0 -135.4660   \n",
       "1    1   10     1 -0.024794  0.069286  0.789895  3.4978    1  -17.9226   \n",
       "2    1   10     1 -0.024794  0.069286  0.789895  3.4978    2 -556.8990   \n",
       "3    1   10     1 -0.024794  0.069286  0.789895  3.4978    3 -440.7360   \n",
       "4    1   10     1 -0.024794  0.069286  0.789895  3.4978    4   38.9291   \n",
       "\n",
       "          Py    ...      hit_9_Pix249  hit_9_Pix250  hit_9_Pix251  \\\n",
       "0  -61.64600    ...             -0.01         -0.01         -0.01   \n",
       "1   -9.57021    ...             -0.01         -0.01         -0.01   \n",
       "2 -425.42800    ...             -0.01         -0.01         -0.01   \n",
       "3 -716.69000    ...             -0.01         -0.01         -0.01   \n",
       "4 -361.20800    ...             -0.01         -0.01         -0.01   \n",
       "\n",
       "   hit_9_Pix252  hit_9_Pix253  hit_9_Pix254  hit_9_Pix255  hit_9_Pix256  \\\n",
       "0         -0.01         -0.01         -0.01         -0.01         -0.01   \n",
       "1         -0.01         -0.01         -0.01         -0.01         -0.01   \n",
       "2         -0.01         -0.01         -0.01         -0.01         -0.01   \n",
       "3         -0.01         -0.01         -0.01         -0.01         -0.01   \n",
       "4         -0.01         -0.01         -0.01         -0.01         -0.01   \n",
       "\n",
       "   hit_9_SumADC  dummyFlag  \n",
       "0         -0.01    542.137  \n",
       "1         -0.01    542.137  \n",
       "2         -0.01    542.137  \n",
       "3         -0.01    542.137  \n",
       "4         -0.01    542.137  \n",
       "\n",
       "[5 rows x 2853 columns]"
      ]
     },
     "execution_count": 41,
     "metadata": {},
     "output_type": "execute_result"
    }
   ],
   "source": [
    "dfTracks.head()"
   ]
  },
  {
   "cell_type": "code",
   "execution_count": 42,
   "metadata": {},
   "outputs": [
    {
     "data": {
      "text/html": [
       "<div>\n",
       "<table border=\"1\" class=\"dataframe\">\n",
       "  <thead>\n",
       "    <tr style=\"text-align: right;\">\n",
       "      <th></th>\n",
       "      <th>hit_0_Pix1</th>\n",
       "      <th>hit_0_Pix2</th>\n",
       "      <th>hit_0_Pix3</th>\n",
       "      <th>hit_0_Pix4</th>\n",
       "      <th>hit_0_Pix5</th>\n",
       "      <th>hit_0_Pix6</th>\n",
       "      <th>hit_0_Pix7</th>\n",
       "      <th>hit_0_Pix8</th>\n",
       "      <th>hit_0_Pix9</th>\n",
       "      <th>hit_0_Pix10</th>\n",
       "      <th>...</th>\n",
       "      <th>hit_0_Pix247</th>\n",
       "      <th>hit_0_Pix248</th>\n",
       "      <th>hit_0_Pix249</th>\n",
       "      <th>hit_0_Pix250</th>\n",
       "      <th>hit_0_Pix251</th>\n",
       "      <th>hit_0_Pix252</th>\n",
       "      <th>hit_0_Pix253</th>\n",
       "      <th>hit_0_Pix254</th>\n",
       "      <th>hit_0_Pix255</th>\n",
       "      <th>hit_0_Pix256</th>\n",
       "    </tr>\n",
       "  </thead>\n",
       "  <tbody>\n",
       "    <tr>\n",
       "      <th>0</th>\n",
       "      <td>0.0</td>\n",
       "      <td>0.0</td>\n",
       "      <td>0.0</td>\n",
       "      <td>0.0</td>\n",
       "      <td>0.0</td>\n",
       "      <td>0.0</td>\n",
       "      <td>0.0</td>\n",
       "      <td>0.0</td>\n",
       "      <td>0.0</td>\n",
       "      <td>0.0</td>\n",
       "      <td>...</td>\n",
       "      <td>0.0</td>\n",
       "      <td>0.0</td>\n",
       "      <td>0.0</td>\n",
       "      <td>0.0</td>\n",
       "      <td>0.0</td>\n",
       "      <td>0.0</td>\n",
       "      <td>0.0</td>\n",
       "      <td>0.0</td>\n",
       "      <td>0.0</td>\n",
       "      <td>0.0</td>\n",
       "    </tr>\n",
       "    <tr>\n",
       "      <th>1</th>\n",
       "      <td>0.0</td>\n",
       "      <td>0.0</td>\n",
       "      <td>0.0</td>\n",
       "      <td>0.0</td>\n",
       "      <td>0.0</td>\n",
       "      <td>0.0</td>\n",
       "      <td>0.0</td>\n",
       "      <td>0.0</td>\n",
       "      <td>0.0</td>\n",
       "      <td>0.0</td>\n",
       "      <td>...</td>\n",
       "      <td>0.0</td>\n",
       "      <td>0.0</td>\n",
       "      <td>0.0</td>\n",
       "      <td>0.0</td>\n",
       "      <td>0.0</td>\n",
       "      <td>0.0</td>\n",
       "      <td>0.0</td>\n",
       "      <td>0.0</td>\n",
       "      <td>0.0</td>\n",
       "      <td>0.0</td>\n",
       "    </tr>\n",
       "    <tr>\n",
       "      <th>2</th>\n",
       "      <td>0.0</td>\n",
       "      <td>0.0</td>\n",
       "      <td>0.0</td>\n",
       "      <td>0.0</td>\n",
       "      <td>0.0</td>\n",
       "      <td>0.0</td>\n",
       "      <td>0.0</td>\n",
       "      <td>0.0</td>\n",
       "      <td>0.0</td>\n",
       "      <td>0.0</td>\n",
       "      <td>...</td>\n",
       "      <td>0.0</td>\n",
       "      <td>0.0</td>\n",
       "      <td>0.0</td>\n",
       "      <td>0.0</td>\n",
       "      <td>0.0</td>\n",
       "      <td>0.0</td>\n",
       "      <td>0.0</td>\n",
       "      <td>0.0</td>\n",
       "      <td>0.0</td>\n",
       "      <td>0.0</td>\n",
       "    </tr>\n",
       "    <tr>\n",
       "      <th>3</th>\n",
       "      <td>0.0</td>\n",
       "      <td>0.0</td>\n",
       "      <td>0.0</td>\n",
       "      <td>0.0</td>\n",
       "      <td>0.0</td>\n",
       "      <td>0.0</td>\n",
       "      <td>0.0</td>\n",
       "      <td>0.0</td>\n",
       "      <td>0.0</td>\n",
       "      <td>0.0</td>\n",
       "      <td>...</td>\n",
       "      <td>0.0</td>\n",
       "      <td>0.0</td>\n",
       "      <td>0.0</td>\n",
       "      <td>0.0</td>\n",
       "      <td>0.0</td>\n",
       "      <td>0.0</td>\n",
       "      <td>0.0</td>\n",
       "      <td>0.0</td>\n",
       "      <td>0.0</td>\n",
       "      <td>0.0</td>\n",
       "    </tr>\n",
       "    <tr>\n",
       "      <th>4</th>\n",
       "      <td>0.0</td>\n",
       "      <td>0.0</td>\n",
       "      <td>0.0</td>\n",
       "      <td>0.0</td>\n",
       "      <td>0.0</td>\n",
       "      <td>0.0</td>\n",
       "      <td>0.0</td>\n",
       "      <td>0.0</td>\n",
       "      <td>0.0</td>\n",
       "      <td>0.0</td>\n",
       "      <td>...</td>\n",
       "      <td>0.0</td>\n",
       "      <td>0.0</td>\n",
       "      <td>0.0</td>\n",
       "      <td>0.0</td>\n",
       "      <td>0.0</td>\n",
       "      <td>0.0</td>\n",
       "      <td>0.0</td>\n",
       "      <td>0.0</td>\n",
       "      <td>0.0</td>\n",
       "      <td>0.0</td>\n",
       "    </tr>\n",
       "  </tbody>\n",
       "</table>\n",
       "<p>5 rows × 256 columns</p>\n",
       "</div>"
      ],
      "text/plain": [
       "   hit_0_Pix1  hit_0_Pix2  hit_0_Pix3  hit_0_Pix4  hit_0_Pix5  hit_0_Pix6  \\\n",
       "0         0.0         0.0         0.0         0.0         0.0         0.0   \n",
       "1         0.0         0.0         0.0         0.0         0.0         0.0   \n",
       "2         0.0         0.0         0.0         0.0         0.0         0.0   \n",
       "3         0.0         0.0         0.0         0.0         0.0         0.0   \n",
       "4         0.0         0.0         0.0         0.0         0.0         0.0   \n",
       "\n",
       "   hit_0_Pix7  hit_0_Pix8  hit_0_Pix9  hit_0_Pix10      ...       \\\n",
       "0         0.0         0.0         0.0          0.0      ...        \n",
       "1         0.0         0.0         0.0          0.0      ...        \n",
       "2         0.0         0.0         0.0          0.0      ...        \n",
       "3         0.0         0.0         0.0          0.0      ...        \n",
       "4         0.0         0.0         0.0          0.0      ...        \n",
       "\n",
       "   hit_0_Pix247  hit_0_Pix248  hit_0_Pix249  hit_0_Pix250  hit_0_Pix251  \\\n",
       "0           0.0           0.0           0.0           0.0           0.0   \n",
       "1           0.0           0.0           0.0           0.0           0.0   \n",
       "2           0.0           0.0           0.0           0.0           0.0   \n",
       "3           0.0           0.0           0.0           0.0           0.0   \n",
       "4           0.0           0.0           0.0           0.0           0.0   \n",
       "\n",
       "   hit_0_Pix252  hit_0_Pix253  hit_0_Pix254  hit_0_Pix255  hit_0_Pix256  \n",
       "0           0.0           0.0           0.0           0.0           0.0  \n",
       "1           0.0           0.0           0.0           0.0           0.0  \n",
       "2           0.0           0.0           0.0           0.0           0.0  \n",
       "3           0.0           0.0           0.0           0.0           0.0  \n",
       "4           0.0           0.0           0.0           0.0           0.0  \n",
       "\n",
       "[5 rows x 256 columns]"
      ]
     },
     "execution_count": 42,
     "metadata": {},
     "output_type": "execute_result"
    }
   ],
   "source": [
    "dfTracks[hitPixels[0]].head()"
   ]
  },
  {
   "cell_type": "code",
   "execution_count": 84,
   "metadata": {},
   "outputs": [
    {
     "data": {
      "image/png": "[encoded data removed]",
      "text/plain": [
       "<matplotlib.figure.Figure at 0x109e8fd90>"
      ]
     },
     "metadata": {},
     "output_type": "display_data"
    },
    {
     "name": "stdout",
     "output_type": "stream",
     "text": [
      "15158\n"
     ]
    }
   ],
   "source": [
    "plt.figure(figsize=(12,12))\n",
    "plt.hist(dfTracks[(dfTracks[\"PdgId\"].abs()==211.0) & (dfTracks[\"SharedFraction\"] == 1.0)][\"Pt\"].values,log=True)\n",
    "plt.ylim(100,1e5)\n",
    "plt.show()\n",
    "print(dfTracks[(dfTracks[\"PdgId\"].abs()==211.0) & (dfTracks[\"SharedFraction\"] == 1.0)].shape[0])"
   ]
  },
  {
   "cell_type": "code",
   "execution_count": 118,
   "metadata": {},
   "outputs": [
    {
     "data": {
      "image/png": "[encoded data removed]",
      "text/plain": [
       "<matplotlib.figure.Figure at 0x10adc58d0>"
      ]
     },
     "metadata": {},
     "output_type": "display_data"
    },
    {
     "name": "stdout",
     "output_type": "stream",
     "text": [
      "8100\n"
     ]
    }
   ],
   "source": [
    "plt.figure(figsize=(12,12))\n",
    "plt.hist(dfTracks[(dfTracks[\"PdgId\"].abs()==321.0) & (dfTracks[\"SharedFraction\"] == 1.0)][\"Pt\"].values,log=True,range=[0.0,100], bins=200,normed=True)\n",
    "#plt.ylim(10,1e2)\n",
    "plt.show()\n",
    "print(dfTracks[(dfTracks[\"PdgId\"].abs()==321.0) & (dfTracks[\"SharedFraction\"] == 1.0)].shape[0])"
   ]
  },
  {
   "cell_type": "code",
   "execution_count": 87,
   "metadata": {},
   "outputs": [
    {
     "data": {
      "image/png": "[encoded data removed]",
      "text/plain": [
       "<matplotlib.figure.Figure at 0x10ab52f10>"
      ]
     },
     "metadata": {},
     "output_type": "display_data"
    },
    {
     "name": "stdout",
     "output_type": "stream",
     "text": [
      "8100\n"
     ]
    }
   ],
   "source": [
    "plt.figure(figsize=(12,12))\n",
    "plt.hist(dfTracks[(dfTracks[\"PdgId\"].abs()==211.0) & (dfTracks[\"SharedFraction\"] == 1.0)][\"DZ\"].values,log=True,bins=100)\n",
    "plt.show()\n",
    "print(dfTracks[(dfTracks[\"PdgId\"].abs()==211.0) & (dfTracks[\"SharedFraction\"] == 1.0)].shape[0])"
   ]
  },
  {
   "cell_type": "code",
   "execution_count": 114,
   "metadata": {},
   "outputs": [
    {
     "name": "stdout",
     "output_type": "stream",
     "text": [
      "[[0.0, 50], [50.0, 100], [100.0, 150], [150.0, 200], [200.0, 250], [250.0, 300], [300.0, 350], [350.0, 400], [400.0, 450], [450.0, 500], [500.0, 550], [550.0, 600], [600.0, 650], [650.0, 700], [700.0, 750], [750.0, 800], [800.0, 850], [850.0, 900], [900.0, 950], [950.0, 1000]]\n"
     ]
    }
   ],
   "source": [
    "ptrRanges = []\n",
    "for i in range(20):\n",
    "    ptrRanges.append([i*50.0,(i+1)*50])\n",
    "print(ptrRanges)"
   ]
  },
  {
   "cell_type": "code",
   "execution_count": null,
   "metadata": {
    "collapsed": true
   },
   "outputs": [],
   "source": [
    "numMin = 9999999\n",
    "for r in ptrRanges:\n",
    "    \n",
    "    numMin = min(numMin,(dfTracks[dfTracks[\"PdgId\"].abs()==321.0) & (dfTracks[\"SharedFraction\"] == 1.0)][\"Pt\"])"
   ]
  },
  {
   "cell_type": "code",
   "execution_count": 88,
   "metadata": {},
   "outputs": [
    {
     "data": {
      "image/png": "[encoded data removed]",
      "text/plain": [
       "<matplotlib.figure.Figure at 0x109e5f550>"
      ]
     },
     "metadata": {},
     "output_type": "display_data"
    },
    {
     "name": "stdout",
     "output_type": "stream",
     "text": [
      "8100\n"
     ]
    }
   ],
   "source": [
    "plt.figure(figsize=(12,12))\n",
    "plt.hist(dfTracks[(dfTracks[\"PdgId\"].abs()==321.0) & (dfTracks[\"SharedFraction\"] == 1.0)][\"DZ\"].values,log=True,bins=100)\n",
    "plt.show()\n",
    "print(dfTracks[(dfTracks[\"PdgId\"].abs()==321.0) & (dfTracks[\"SharedFraction\"] == 1.0)].shape[0])"
   ]
  },
  {
   "cell_type": "code",
   "execution_count": 75,
   "metadata": {},
   "outputs": [
    {
     "data": {
      "text/plain": [
       "-211     7607\n",
       " 211     7551\n",
       " 321     4129\n",
       "-321     3971\n",
       " 2212     600\n",
       "-11       537\n",
       " 11       496\n",
       "-2212      82\n",
       "-13        12\n",
       " 13         6\n",
       " 3222       3\n",
       " 3112       2\n",
       "-3312       2\n",
       "-3222       1\n",
       "-3112       1\n",
       "Name: PdgId, dtype: int64"
      ]
     },
     "execution_count": 75,
     "metadata": {},
     "output_type": "execute_result"
    }
   ],
   "source": [
    "dfTracks[\"PdgId\"].value_counts()"
   ]
  },
  {
   "cell_type": "code",
   "execution_count": null,
   "metadata": {
    "collapsed": true
   },
   "outputs": [],
   "source": []
  },
  {
   "cell_type": "code",
   "execution_count": 117,
   "metadata": {
    "scrolled": false
   },
   "outputs": [
    {
     "name": "stdout",
     "output_type": "stream",
     "text": [
      "0\n",
      "[   1.    0.  160.   -1.   -1.   -1.    5.]\n"
     ]
    },
    {
     "data": {
      "image/png": "[encoded data removed]",
      "text/plain": [
       "<matplotlib.figure.Figure at 0x10acfe910>"
      ]
     },
     "metadata": {},
     "output_type": "display_data"
    },
    {
     "name": "stdout",
     "output_type": "stream",
     "text": [
      "[   1.    0.  144.   -1.   -1.   -1.    5.]\n"
     ]
    },
    {
     "data": {
      "image/png": "[encoded data removed]",
      "text/plain": [
       "<matplotlib.figure.Figure at 0x1096fbf90>"
      ]
     },
     "metadata": {},
     "output_type": "display_data"
    },
    {
     "name": "stdout",
     "output_type": "stream",
     "text": [
      "[  1.   1.  80.  -1.  -1.  -1.   5.]\n"
     ]
    },
    {
     "data": {
      "image/png": "[encoded data removed]",
      "text/plain": [
       "<matplotlib.figure.Figure at 0x108e5b810>"
      ]
     },
     "metadata": {},
     "output_type": "display_data"
    },
    {
     "name": "stdout",
     "output_type": "stream",
     "text": [
      "[  1.   2.  32.  -1.  -1.  -1.   4.]\n"
     ]
    },
    {
     "data": {
      "image/png": "[encoded data removed]",
      "text/plain": [
       "<matplotlib.figure.Figure at 0x108f909d0>"
      ]
     },
     "metadata": {},
     "output_type": "display_data"
    },
    {
     "name": "stdout",
     "output_type": "stream",
     "text": [
      "[  1.   2.  16.  -1.  -1.  -1.   4.]\n"
     ]
    },
    {
     "data": {
      "image/png": "[encoded data removed]",
      "text/plain": [
       "<matplotlib.figure.Figure at 0x1099b5f50>"
      ]
     },
     "metadata": {},
     "output_type": "display_data"
    },
    {
     "name": "stdout",
     "output_type": "stream",
     "text": [
      "[  1.   3.  16.  -1.  -1.  -1.   4.]\n"
     ]
    },
    {
     "data": {
      "image/png": "[encoded data removed]",
      "text/plain": [
       "<matplotlib.figure.Figure at 0x10a88b390>"
      ]
     },
     "metadata": {},
     "output_type": "display_data"
    },
    {
     "name": "stdout",
     "output_type": "stream",
     "text": [
      "[ 1.  3.  0. -1. -1. -1.  4.]\n"
     ]
    },
    {
     "data": {
      "image/png": "[encoded data removed]",
      "text/plain": [
       "<matplotlib.figure.Figure at 0x10a7cc990>"
      ]
     },
     "metadata": {},
     "output_type": "display_data"
    },
    {
     "name": "stdout",
     "output_type": "stream",
     "text": [
      "[-0.01 -0.01 -0.01 -0.01 -0.01 -0.01 -0.01]\n"
     ]
    },
    {
     "data": {
      "image/png": "[encoded data removed]",
      "text/plain": [
       "<matplotlib.figure.Figure at 0x109b52610>"
      ]
     },
     "metadata": {},
     "output_type": "display_data"
    },
    {
     "name": "stdout",
     "output_type": "stream",
     "text": [
      "[-0.01 -0.01 -0.01 -0.01 -0.01 -0.01 -0.01]\n"
     ]
    },
    {
     "data": {
      "image/png": "[encoded data removed]",
      "text/plain": [
       "<matplotlib.figure.Figure at 0x1089ffbd0>"
      ]
     },
     "metadata": {},
     "output_type": "display_data"
    },
    {
     "name": "stdout",
     "output_type": "stream",
     "text": [
      "[-0.01 -0.01 -0.01 -0.01 -0.01 -0.01 -0.01]\n"
     ]
    },
    {
     "data": {
      "image/png": "[encoded data removed]",
      "text/plain": [
       "<matplotlib.figure.Figure at 0x109578610>"
      ]
     },
     "metadata": {},
     "output_type": "display_data"
    }
   ],
   "source": [
    "u = int(random.uniform(0,dfTracks[dfTracks[\"hit_6_IsBarrel\"]>0.0].shape[0]))\n",
    "print u\n",
    "\n",
    "for i in range(10):\n",
    "    plt.figure(figsize=(12,12))\n",
    "    print(dfTracks[dfTracks[\"hit_6_IsBarrel\"]>0.0][hitDets[i]].values[u])\n",
    "    plt.imshow(dfTracks[dfTracks[\"hit_6_IsBarrel\"]>0.0][hitPixels[i]].values[u].reshape(padshape,padshape))\n",
    "    plt.colorbar()\n",
    "    plt.title(\"Pixel no.\" + str(i),fontsize=25)\n",
    "    plt.show()"
   ]
  },
  {
   "cell_type": "code",
   "execution_count": null,
   "metadata": {
    "collapsed": true
   },
   "outputs": [],
   "source": []
  }
 ],
 "metadata": {
  "kernelspec": {
   "display_name": "Python 2",
   "language": "python",
   "name": "python2"
  },
  "language_info": {
   "codemirror_mode": {
    "name": "ipython",
    "version": 2
   },
   "file_extension": ".py",
   "mimetype": "text/x-python",
   "name": "python",
   "nbconvert_exporter": "python",
   "pygments_lexer": "ipython2",
   "version": "2.7.14"
  }
 },
 "nbformat": 4,
 "nbformat_minor": 2
}
