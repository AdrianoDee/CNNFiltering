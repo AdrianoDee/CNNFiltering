{
 "cells": [
  {
   "cell_type": "code",
   "execution_count": 1,
   "metadata": {},
   "outputs": [
    {
     "name": "stderr",
     "output_type": "stream",
     "text": [
      "/lustre/home/adrianodif/Virtualenvs/keras_hpc/lib/python2.7/site-packages/h5py/__init__.py:36: FutureWarning: Conversion of the second argument of issubdtype from `float` to `np.floating` is deprecated. In future, it will be treated as `np.float64 == np.dtype(float).type`.\n",
      "  from ._conv import register_converters as _register_converters\n",
      "Using TensorFlow backend.\n"
     ]
    }
   ],
   "source": [
    "import argparse\n",
    "import datetime\n",
    "import json\n",
    "import tempfile\n",
    "import os\n",
    "\n",
    "from keras.callbacks import EarlyStopping, ModelCheckpoint, TensorBoard\n",
    "\n",
    "import sys\n",
    "import numpy as np\n",
    "import itertools\n",
    "import pickle\n",
    "from random import shuffle\n",
    "from sklearn.model_selection import StratifiedKFold"
   ]
  },
  {
   "cell_type": "code",
   "execution_count": 71,
   "metadata": {},
   "outputs": [],
   "source": [
    "from sklearn.metrics import roc_auc_score"
   ]
  },
  {
   "cell_type": "code",
   "execution_count": 27,
   "metadata": {},
   "outputs": [],
   "source": [
    "from dataset import *\n",
    "from model_architectures import *"
   ]
  },
  {
   "cell_type": "code",
   "execution_count": 3,
   "metadata": {},
   "outputs": [],
   "source": [
    "from keras import backend as K\n",
    "import tensorflow as tf"
   ]
  },
  {
   "cell_type": "code",
   "execution_count": 4,
   "metadata": {},
   "outputs": [],
   "source": [
    "remote_data = \"/lustre/cms/store/user/adiflori/ConvPixels/TTBar_13TeV_PU_35/bal_data/\""
   ]
  },
  {
   "cell_type": "code",
   "execution_count": 31,
   "metadata": {},
   "outputs": [],
   "source": [
    "debug = False"
   ]
  },
  {
   "cell_type": "code",
   "execution_count": 32,
   "metadata": {},
   "outputs": [],
   "source": [
    "remote_dirs = os.listdir(remote_data)\n",
    "remote_dirs = [remote_data + d + \"/\" for d in remote_dirs if os.path.isdir(remote_data + d) and \"ten_l\" not in d]\n",
    "\n",
    "shuffle(remote_dirs)\n",
    "\n",
    "train_dirs = remote_dirs[:int(len(remote_dirs)*0.8)] if not debug else remote_dirs[:1]\n",
    "test_dirs = remote_dirs[int(len(remote_dirs)*0.8):int(len(remote_dirs)*0.9)] if not debug else remote_dirs[:1]\n",
    "val_dirs = remote_dirs[int(len(remote_dirs)*0.9):] if not debug else remote_dirs[:1]"
   ]
  },
  {
   "cell_type": "code",
   "execution_count": 41,
   "metadata": {},
   "outputs": [
    {
     "name": "stdout",
     "output_type": "stream",
     "text": [
      "['/lustre/cms/store/user/adiflori/ConvPixels/TTBar_13TeV_PU_35/bal_data/5_35_02May18_223545_runs/', '/lustre/cms/store/user/adiflori/ConvPixels/TTBar_13TeV_PU_35/bal_data/5_35_02May18_222927_runs/', '/lustre/cms/store/user/adiflori/ConvPixels/TTBar_13TeV_PU_35/bal_data/5_35_02May18_223912_runs/', '/lustre/cms/store/user/adiflori/ConvPixels/TTBar_13TeV_PU_35/bal_data/5_35_02May18_224210_runs/', '/lustre/cms/store/user/adiflori/ConvPixels/TTBar_13TeV_PU_35/bal_data/5_35_02May18_233615_runs/', '/lustre/cms/store/user/adiflori/ConvPixels/TTBar_13TeV_PU_35/bal_data/5_35_02May18_222752_runs/', '/lustre/cms/store/user/adiflori/ConvPixels/TTBar_13TeV_PU_35/bal_data/5_35_02May18_231628_runs/', '/lustre/cms/store/user/adiflori/ConvPixels/TTBar_13TeV_PU_35/bal_data/5_35_02May18_231415_runs/', '/lustre/cms/store/user/adiflori/ConvPixels/TTBar_13TeV_PU_35/bal_data/5_35_02May18_223359_runs/', '/lustre/cms/store/user/adiflori/ConvPixels/TTBar_13TeV_PU_35/bal_data/5_35_02May18_233436_runs/', '/lustre/cms/store/user/adiflori/ConvPixels/TTBar_13TeV_PU_35/bal_data/5_35_02May18_221727_runs/', '/lustre/cms/store/user/adiflori/ConvPixels/TTBar_13TeV_PU_35/bal_data/5_35_02May18_222242_runs/', '/lustre/cms/store/user/adiflori/ConvPixels/TTBar_13TeV_PU_35/bal_data/5_35_02May18_225649_runs/', '/lustre/cms/store/user/adiflori/ConvPixels/TTBar_13TeV_PU_35/bal_data/5_35_02May18_223827_runs/', '/lustre/cms/store/user/adiflori/ConvPixels/TTBar_13TeV_PU_35/bal_data/5_35_02May18_232409_runs/', '/lustre/cms/store/user/adiflori/ConvPixels/TTBar_13TeV_PU_35/bal_data/5_35_02May18_225340_runs/', '/lustre/cms/store/user/adiflori/ConvPixels/TTBar_13TeV_PU_35/bal_data/5_35_02May18_223507_runs/', '/lustre/cms/store/user/adiflori/ConvPixels/TTBar_13TeV_PU_35/bal_data/5_35_02May18_233634_runs/', '/lustre/cms/store/user/adiflori/ConvPixels/TTBar_13TeV_PU_35/bal_data/5_35_02May18_225715_runs/', '/lustre/cms/store/user/adiflori/ConvPixels/TTBar_13TeV_PU_35/bal_data/5_35_02May18_225928_runs/', '/lustre/cms/store/user/adiflori/ConvPixels/TTBar_13TeV_PU_35/bal_data/5_35_02May18_230725_runs/', '/lustre/cms/store/user/adiflori/ConvPixels/TTBar_13TeV_PU_35/bal_data/5_35_02May18_231018_runs/', '/lustre/cms/store/user/adiflori/ConvPixels/TTBar_13TeV_PU_35/bal_data/5_35_02May18_232253_runs/', '/lustre/cms/store/user/adiflori/ConvPixels/TTBar_13TeV_PU_35/bal_data/5_35_02May18_232410_runs/', '/lustre/cms/store/user/adiflori/ConvPixels/TTBar_13TeV_PU_35/bal_data/5_35_02May18_223933_runs/', '/lustre/cms/store/user/adiflori/ConvPixels/TTBar_13TeV_PU_35/bal_data/5_35_02May18_223713_runs/', '/lustre/cms/store/user/adiflori/ConvPixels/TTBar_13TeV_PU_35/bal_data/5_35_02May18_224103_runs/', '/lustre/cms/store/user/adiflori/ConvPixels/TTBar_13TeV_PU_35/bal_data/5_35_02May18_223819_runs/', '/lustre/cms/store/user/adiflori/ConvPixels/TTBar_13TeV_PU_35/bal_data/5_35_02May18_222112_runs/', '/lustre/cms/store/user/adiflori/ConvPixels/TTBar_13TeV_PU_35/bal_data/5_35_02May18_230410_runs/', '/lustre/cms/store/user/adiflori/ConvPixels/TTBar_13TeV_PU_35/bal_data/5_35_02May18_231229_runs/', '/lustre/cms/store/user/adiflori/ConvPixels/TTBar_13TeV_PU_35/bal_data/5_35_02May18_231550_runs/', '/lustre/cms/store/user/adiflori/ConvPixels/TTBar_13TeV_PU_35/bal_data/5_35_02May18_223935_runs/', '/lustre/cms/store/user/adiflori/ConvPixels/TTBar_13TeV_PU_35/bal_data/5_35_02May18_232936_runs/', '/lustre/cms/store/user/adiflori/ConvPixels/TTBar_13TeV_PU_35/bal_data/5_35_02May18_223633_runs/', '/lustre/cms/store/user/adiflori/ConvPixels/TTBar_13TeV_PU_35/bal_data/5_35_02May18_224531_runs/', '/lustre/cms/store/user/adiflori/ConvPixels/TTBar_13TeV_PU_35/bal_data/5_35_02May18_230532_runs/', '/lustre/cms/store/user/adiflori/ConvPixels/TTBar_13TeV_PU_35/bal_data/5_35_02May18_221835_runs/', '/lustre/cms/store/user/adiflori/ConvPixels/TTBar_13TeV_PU_35/bal_data/5_35_02May18_225608_runs/', '/lustre/cms/store/user/adiflori/ConvPixels/TTBar_13TeV_PU_35/bal_data/5_35_02May18_224619_runs/', '/lustre/cms/store/user/adiflori/ConvPixels/TTBar_13TeV_PU_35/bal_data/5_35_02May18_224743_runs/', '/lustre/cms/store/user/adiflori/ConvPixels/TTBar_13TeV_PU_35/bal_data/5_35_02May18_233538_runs/', '/lustre/cms/store/user/adiflori/ConvPixels/TTBar_13TeV_PU_35/bal_data/5_35_02May18_233459_runs/', '/lustre/cms/store/user/adiflori/ConvPixels/TTBar_13TeV_PU_35/bal_data/5_35_02May18_224729_runs/', '/lustre/cms/store/user/adiflori/ConvPixels/TTBar_13TeV_PU_35/bal_data/5_35_02May18_221529_runs/', '/lustre/cms/store/user/adiflori/ConvPixels/TTBar_13TeV_PU_35/bal_data/5_35_02May18_223913_runs/', '/lustre/cms/store/user/adiflori/ConvPixels/TTBar_13TeV_PU_35/bal_data/5_35_02May18_230456_runs/', '/lustre/cms/store/user/adiflori/ConvPixels/TTBar_13TeV_PU_35/bal_data/5_35_02May18_221118_runs/', '/lustre/cms/store/user/adiflori/ConvPixels/TTBar_13TeV_PU_35/bal_data/5_35_02May18_233616_runs/', '/lustre/cms/store/user/adiflori/ConvPixels/TTBar_13TeV_PU_35/bal_data/5_35_02May18_231342_runs/', '/lustre/cms/store/user/adiflori/ConvPixels/TTBar_13TeV_PU_35/bal_data/5_35_02May18_230724_runs/', '/lustre/cms/store/user/adiflori/ConvPixels/TTBar_13TeV_PU_35/bal_data/5_35_02May18_230600_runs/', '/lustre/cms/store/user/adiflori/ConvPixels/TTBar_13TeV_PU_35/bal_data/5_35_02May18_232012_runs/', '/lustre/cms/store/user/adiflori/ConvPixels/TTBar_13TeV_PU_35/bal_data/5_35_02May18_230816_runs/', '/lustre/cms/store/user/adiflori/ConvPixels/TTBar_13TeV_PU_35/bal_data/5_35_02May18_222734_runs/', '/lustre/cms/store/user/adiflori/ConvPixels/TTBar_13TeV_PU_35/bal_data/5_35_02May18_224104_runs/', '/lustre/cms/store/user/adiflori/ConvPixels/TTBar_13TeV_PU_35/bal_data/5_35_02May18_230645_runs/', '/lustre/cms/store/user/adiflori/ConvPixels/TTBar_13TeV_PU_35/bal_data/5_35_02May18_224203_runs/', '/lustre/cms/store/user/adiflori/ConvPixels/TTBar_13TeV_PU_35/bal_data/5_35_02May18_231957_runs/', '/lustre/cms/store/user/adiflori/ConvPixels/TTBar_13TeV_PU_35/bal_data/5_35_02May18_230134_runs/', '/lustre/cms/store/user/adiflori/ConvPixels/TTBar_13TeV_PU_35/bal_data/5_35_02May18_224408_runs/', '/lustre/cms/store/user/adiflori/ConvPixels/TTBar_13TeV_PU_35/bal_data/5_35_02May18_230616_runs/', '/lustre/cms/store/user/adiflori/ConvPixels/TTBar_13TeV_PU_35/bal_data/5_35_02May18_221456_runs/', '/lustre/cms/store/user/adiflori/ConvPixels/TTBar_13TeV_PU_35/bal_data/5_35_02May18_233537_runs/', '/lustre/cms/store/user/adiflori/ConvPixels/TTBar_13TeV_PU_35/bal_data/5_35_02May18_224642_runs/', '/lustre/cms/store/user/adiflori/ConvPixels/TTBar_13TeV_PU_35/bal_data/5_35_02May18_231206_runs/', '/lustre/cms/store/user/adiflori/ConvPixels/TTBar_13TeV_PU_35/bal_data/5_35_02May18_221556_runs/', '/lustre/cms/store/user/adiflori/ConvPixels/TTBar_13TeV_PU_35/bal_data/5_35_02May18_232323_runs/', '/lustre/cms/store/user/adiflori/ConvPixels/TTBar_13TeV_PU_35/bal_data/5_35_02May18_221623_runs/', '/lustre/cms/store/user/adiflori/ConvPixels/TTBar_13TeV_PU_35/bal_data/5_35_02May18_223010_runs/', '/lustre/cms/store/user/adiflori/ConvPixels/TTBar_13TeV_PU_35/bal_data/5_35_02May18_223320_runs/', '/lustre/cms/store/user/adiflori/ConvPixels/TTBar_13TeV_PU_35/bal_data/5_35_02May18_231220_runs/', '/lustre/cms/store/user/adiflori/ConvPixels/TTBar_13TeV_PU_35/bal_data/5_35_02May18_222708_runs/', '/lustre/cms/store/user/adiflori/ConvPixels/TTBar_13TeV_PU_35/bal_data/5_35_02May18_233340_runs/', '/lustre/cms/store/user/adiflori/ConvPixels/TTBar_13TeV_PU_35/bal_data/5_35_02May18_223203_runs/', '/lustre/cms/store/user/adiflori/ConvPixels/TTBar_13TeV_PU_35/bal_data/5_35_02May18_230844_runs/', '/lustre/cms/store/user/adiflori/ConvPixels/TTBar_13TeV_PU_35/bal_data/5_35_02May18_230934_runs/', '/lustre/cms/store/user/adiflori/ConvPixels/TTBar_13TeV_PU_35/bal_data/5_35_02May18_223125_runs/', '/lustre/cms/store/user/adiflori/ConvPixels/TTBar_13TeV_PU_35/bal_data/5_35_02May18_225025_runs/', '/lustre/cms/store/user/adiflori/ConvPixels/TTBar_13TeV_PU_35/bal_data/5_35_02May18_231808_runs/', '/lustre/cms/store/user/adiflori/ConvPixels/TTBar_13TeV_PU_35/bal_data/5_35_02May18_225606_runs/', '/lustre/cms/store/user/adiflori/ConvPixels/TTBar_13TeV_PU_35/bal_data/5_35_02May18_222707_runs/', '/lustre/cms/store/user/adiflori/ConvPixels/TTBar_13TeV_PU_35/bal_data/5_35_02May18_231807_runs/', '/lustre/cms/store/user/adiflori/ConvPixels/TTBar_13TeV_PU_35/bal_data/5_35_02May18_233237_runs/', '/lustre/cms/store/user/adiflori/ConvPixels/TTBar_13TeV_PU_35/bal_data/5_35_02May18_230434_runs/', '/lustre/cms/store/user/adiflori/ConvPixels/TTBar_13TeV_PU_35/bal_data/5_35_02May18_225452_runs/', '/lustre/cms/store/user/adiflori/ConvPixels/TTBar_13TeV_PU_35/bal_data/5_35_02May18_224700_runs/', '/lustre/cms/store/user/adiflori/ConvPixels/TTBar_13TeV_PU_35/bal_data/5_35_02May18_223124_runs/', '/lustre/cms/store/user/adiflori/ConvPixels/TTBar_13TeV_PU_35/bal_data/5_35_02May18_223829_runs/', '/lustre/cms/store/user/adiflori/ConvPixels/TTBar_13TeV_PU_35/bal_data/5_35_02May18_231925_runs/', '/lustre/cms/store/user/adiflori/ConvPixels/TTBar_13TeV_PU_35/bal_data/5_35_02May18_221956_runs/', '/lustre/cms/store/user/adiflori/ConvPixels/TTBar_13TeV_PU_35/bal_data/5_35_02May18_230843_runs/', '/lustre/cms/store/user/adiflori/ConvPixels/TTBar_13TeV_PU_35/bal_data/5_35_02May18_222009_runs/', '/lustre/cms/store/user/adiflori/ConvPixels/TTBar_13TeV_PU_35/bal_data/5_35_02May18_232615_runs/', '/lustre/cms/store/user/adiflori/ConvPixels/TTBar_13TeV_PU_35/bal_data/5_35_02May18_231709_runs/', '/lustre/cms/store/user/adiflori/ConvPixels/TTBar_13TeV_PU_35/bal_data/5_35_02May18_221511_runs/', '/lustre/cms/store/user/adiflori/ConvPixels/TTBar_13TeV_PU_35/bal_data/5_35_02May18_221821_runs/', '/lustre/cms/store/user/adiflori/ConvPixels/TTBar_13TeV_PU_35/bal_data/5_35_02May18_230559_runs/', '/lustre/cms/store/user/adiflori/ConvPixels/TTBar_13TeV_PU_35/bal_data/5_35_02May18_225541_runs/', '/lustre/cms/store/user/adiflori/ConvPixels/TTBar_13TeV_PU_35/bal_data/5_35_02May18_222538_runs/', '/lustre/cms/store/user/adiflori/ConvPixels/TTBar_13TeV_PU_35/bal_data/5_35_02May18_221239_runs/', '/lustre/cms/store/user/adiflori/ConvPixels/TTBar_13TeV_PU_35/bal_data/5_35_02May18_222157_runs/', '/lustre/cms/store/user/adiflori/ConvPixels/TTBar_13TeV_PU_35/bal_data/5_35_02May18_224255_runs/', '/lustre/cms/store/user/adiflori/ConvPixels/TTBar_13TeV_PU_35/bal_data/5_35_02May18_230518_runs/', '/lustre/cms/store/user/adiflori/ConvPixels/TTBar_13TeV_PU_35/bal_data/5_35_02May18_222639_runs/', '/lustre/cms/store/user/adiflori/ConvPixels/TTBar_13TeV_PU_35/bal_data/5_35_02May18_223247_runs/', '/lustre/cms/store/user/adiflori/ConvPixels/TTBar_13TeV_PU_35/bal_data/5_35_02May18_232939_runs/', '/lustre/cms/store/user/adiflori/ConvPixels/TTBar_13TeV_PU_35/bal_data/5_35_02May18_223245_runs/', '/lustre/cms/store/user/adiflori/ConvPixels/TTBar_13TeV_PU_35/bal_data/5_35_02May18_223826_runs/', '/lustre/cms/store/user/adiflori/ConvPixels/TTBar_13TeV_PU_35/bal_data/5_35_02May18_223451_runs/', '/lustre/cms/store/user/adiflori/ConvPixels/TTBar_13TeV_PU_35/bal_data/5_35_02May18_233334_runs/', '/lustre/cms/store/user/adiflori/ConvPixels/TTBar_13TeV_PU_35/bal_data/5_35_02May18_221616_runs/', '/lustre/cms/store/user/adiflori/ConvPixels/TTBar_13TeV_PU_35/bal_data/5_35_02May18_222946_runs/', '/lustre/cms/store/user/adiflori/ConvPixels/TTBar_13TeV_PU_35/bal_data/5_35_02May18_231502_runs/', '/lustre/cms/store/user/adiflori/ConvPixels/TTBar_13TeV_PU_35/bal_data/5_35_02May18_224231_runs/', '/lustre/cms/store/user/adiflori/ConvPixels/TTBar_13TeV_PU_35/bal_data/5_35_02May18_222638_runs/', '/lustre/cms/store/user/adiflori/ConvPixels/TTBar_13TeV_PU_35/bal_data/5_35_02May18_223222_runs/', '/lustre/cms/store/user/adiflori/ConvPixels/TTBar_13TeV_PU_35/bal_data/5_35_02May18_221559_runs/', '/lustre/cms/store/user/adiflori/ConvPixels/TTBar_13TeV_PU_35/bal_data/5_35_02May18_224047_runs/', '/lustre/cms/store/user/adiflori/ConvPixels/TTBar_13TeV_PU_35/bal_data/5_35_02May18_230932_runs/']\n"
     ]
    }
   ],
   "source": [
    "train_files = []\n",
    "val_files = []\n",
    "test_files = []\n",
    "print train_dirs\n",
    "MAX = 1\n",
    "for ff in train_dirs:\n",
    "    train_files = train_files + [ff + \"/\" + f for f in os.listdir(ff) if \"Step\" in f][:MAX]\n",
    "for ff in val_dirs:\n",
    "    val_files = val_files + [ff + \"/\" + f for f in os.listdir(ff) if \"Step\" in f][:MAX]\n",
    "for ff in test_dirs:\n",
    "    test_files = test_files + [ff + \"/\" + f for f in os.listdir(ff) if \"Step\" in f][:MAX]\n",
    "    \n",
    "train_files = train_files[:50]\n",
    "val_files = val_files[:20]\n",
    "test_files = test_files[:20]"
   ]
  },
  {
   "cell_type": "code",
   "execution_count": 42,
   "metadata": {},
   "outputs": [],
   "source": [
    "padshape = 16\n",
    "\n",
    "target_lab = \"label\"\n",
    "\n",
    "pdg_lab = \"inTpPdgId\"\n",
    "\n",
    "headLab = [\"run\",\"evt\",\"lumi\",\"PU\",\"detSeqIn\",\"detSeqOut\",\"bSX\",\"bSY\",\"bSZ\",\"bSdZ\"]\n",
    "\n",
    "hitCoord = [\"X\",\"Y\",\"Z\",\"Phi\",\"R\"] #5\n",
    "\n",
    "hitDet = [\"DetSeq\",\"IsBarrel\",\"Layer\",\"Ladder\",\"Side\",\"Disk\",\"Panel\",\"Module\",\"IsFlipped\",\"Ax1\",\"Ax2\"] #12\n",
    "\n",
    "hitClust = [\"ClustX\",\"ClustY\",\"ClustSize\",\"ClustSizeX\",\"ClustSizeY\",\"PixelZero\",\n",
    "            \"AvgCharge\",\"OverFlowX\",\"OverFlowY\",\"Skew\",\"IsBig\",\"IsBad\",\"IsEdge\"] #13\n",
    "\n",
    "hitPixel = [\"Pix\" + str(el) for el in range(1, padshape*padshape + 1)]\n",
    "\n",
    "hitCharge = [\"SumADC\"]\n",
    "\n",
    "hitLabs = hitCoord + hitDet + hitClust + hitPixel + hitCharge\n",
    "\n",
    "inHitLabs = [ \"in\" + str(i) for i in hitLabs]\n",
    "outHitLabs = [ \"out\" + str(i) for i in hitLabs]\n",
    "\n",
    "inPixels = [ \"in\" + str(i) for i in hitPixel]\n",
    "outPixels = [ \"out\" + str(i) for i in hitPixel]\n",
    "\n",
    "\n",
    "particle = [\"PId\",\"TId\",\"Px\",\"Py\",\"Pz\",\"Pt\",\"MT\",\"ET\",\"MSqr\",\"PdgId\",\n",
    "                \"Charge\",\"NTrackerHits\",\"NTrackerLayers\",\"Phi\",\"Eta\",\"Rapidity\",\n",
    "                \"VX\",\"VY\",\"VZ\",\"DXY\",\"DZ\",\"BunchCrossing\",\"IsChargeMatched\",\n",
    "                \"IsSigSimMatched\",\"SharedFraction\",\"NumAssocRecoTracks\"]\n",
    "\n",
    "hitFeatures = hitCoord + hitDet + hitClust + hitCharge # 5 + 12 + 13 + 1 = 31\n",
    "\n",
    "inParticle = [ \"inTp\" + str(i) for i in particle]\n",
    "outParticle = [ \"outTp\" + str(i) for i in particle]\n",
    "\n",
    "inHitFeature  = [ \"in\" + str(i) for i in hitFeatures]\n",
    "outHitFeature = [ \"out\" + str(i) for i in hitFeatures]\n",
    "\n",
    "particleLabs = [\"label\",\"intersect\",\"particles\"] + inParticle +  outParticle\n",
    "\n",
    "differences = [\"deltaA\", \"deltaADC\", \"deltaS\", \"deltaR\", \"deltaPhi\", \"deltaZ\", \"ZZero\"]\n",
    "\n",
    "featureLabs = inHitFeature + outHitFeature + differences\n",
    "\n",
    "dataLab = headLab + inHitLabs + outHitLabs + differences + particleLabs + [\"dummyFlag\"]\n",
    "\n",
    "layer_ids = [0, 1, 2, 3, 14, 15, 16, 29, 30, 31]\n",
    "\n",
    "particle_ids = [-1.,11.,13.,15.,22.,111.,211.,311.,321.,2212.,2112.,3122.,223.]\n",
    "\n",
    "main_pdgs = [11.,13.,211.,321.,2212.]\n",
    "\n",
    "layer_ids = [0, 1, 2, 3, 14, 15, 16, 29, 30, 31]\n",
    "\n",
    "particle_ids = [-1.,11.,13.,15.,22.,111.,211.,311.,321.,2212.,2112.,3122.,223.]\n",
    "\n",
    "main_pdgs = [11.,13.,211.,321.,2212.]\n",
    "\n",
    "il1Pix = ['inPix41', 'inPix57', 'inPix72', 'inPix73', 'inPix74', 'inPix88', 'inPix89', 'inPix90', 'inPix104', 'inPix105', 'inPix106', 'inPix119', 'inPix120', 'inPix121', 'inPix122', 'inPix123', 'inPix135', 'inPix136', 'inPix137', 'inPix138', 'inPix139', 'inPix140', 'inPix151', 'inPix152', 'inPix153', 'inPix154', 'inPix155', 'inPix168', 'inPix169', 'inPix170', 'inPix184', 'inPix185', 'inPix186', 'inPix200', 'inPix201', 'inPix202', 'inPix217', 'inPix233']\n",
    "\n",
    "ol1Pix = ['outPix89', 'outPix104', 'outPix105', 'outPix106', 'outPix119', 'outPix120', 'outPix121', 'outPix122', 'outPix123', 'outPix134', 'outPix135', 'outPix136', 'outPix137', 'outPix138', 'outPix139', 'outPix151', 'outPix152', 'outPix153', 'outPix154', 'outPix155', 'outPix168', 'outPix169', 'outPix170', 'outPix185']\n",
    "\n",
    "inHitCoords = [ \"in\" + str(i) for i in hitCoord]\n",
    "outHitCoords = [ \"out\" + str(i) for i in hitCoord]\n",
    "inHitDet = [ \"in\" + str(i) for i in hitDet]\n",
    "outHitDet = [ \"out\" + str(i) for i in hitDet]\n",
    "inHitClust = [ \"in\" + str(i) for i in hitClust]\n",
    "outHitClust = [ \"out\" + str(i) for i in hitClust]"
   ]
  },
  {
   "cell_type": "code",
   "execution_count": 43,
   "metadata": {},
   "outputs": [],
   "source": [
    "theInfos = featureLabs"
   ]
  },
  {
   "cell_type": "code",
   "execution_count": 44,
   "metadata": {
    "scrolled": true
   },
   "outputs": [
    {
     "name": "stdout",
     "output_type": "stream",
     "text": [
      "Loading file 1/16 : /lustre/cms/store/user/adiflori/ConvPixels/TTBar_13TeV_PU_35/bal_data/5_35_02May18_224458_runs//_bal_1_1_2_mixedTripletStepHitDoubletsA_dnn_doublets_00.h5\n",
      "Loading file 2/16 : /lustre/cms/store/user/adiflori/ConvPixels/TTBar_13TeV_PU_35/bal_data/5_35_02May18_224740_runs//_bal_1_1_2_mixedTripletStepHitDoubletsA_dnn_doublets_00.h5\n",
      "Loading file 3/16 : /lustre/cms/store/user/adiflori/ConvPixels/TTBar_13TeV_PU_35/bal_data/5_35_02May18_223236_runs//_bal_1_1_2_mixedTripletStepHitDoubletsA_dnn_doublets_00.h5\n",
      "Loading file 4/16 : /lustre/cms/store/user/adiflori/ConvPixels/TTBar_13TeV_PU_35/bal_data/5_35_02May18_221818_runs//_bal_1_1_2_mixedTripletStepHitDoubletsA_dnn_doublets_00.h5\n",
      "Loading file 5/16 : /lustre/cms/store/user/adiflori/ConvPixels/TTBar_13TeV_PU_35/bal_data/5_35_02May18_233339_runs//_bal_1_1_2_mixedTripletStepHitDoubletsA_dnn_doublets_00.h5\n",
      "Loading file 6/16 : /lustre/cms/store/user/adiflori/ConvPixels/TTBar_13TeV_PU_35/bal_data/5_35_02May18_232617_runs//_bal_1_1_4_lowPtQuadStepHitDoublets_dnn_doublets_02.h5\n",
      "Loading file 7/16 : /lustre/cms/store/user/adiflori/ConvPixels/TTBar_13TeV_PU_35/bal_data/5_35_02May18_232109_runs//_bal_1_1_4_lowPtQuadStepHitDoublets_dnn_doublets_02.h5\n",
      "Loading file 8/16 : /lustre/cms/store/user/adiflori/ConvPixels/TTBar_13TeV_PU_35/bal_data/5_35_02May18_221156_runs//_bal_1_1_2_mixedTripletStepHitDoubletsA_dnn_doublets_00.h5\n",
      "Loading file 9/16 : /lustre/cms/store/user/adiflori/ConvPixels/TTBar_13TeV_PU_35/bal_data/5_35_02May18_221132_runs//_bal_1_1_4_lowPtQuadStepHitDoublets_dnn_doublets_02.h5\n",
      "Loading file 10/16 : /lustre/cms/store/user/adiflori/ConvPixels/TTBar_13TeV_PU_35/bal_data/5_35_02May18_231703_runs//_bal_1_1_2_mixedTripletStepHitDoubletsA_dnn_doublets_00.h5\n",
      "Loading file 11/16 : /lustre/cms/store/user/adiflori/ConvPixels/TTBar_13TeV_PU_35/bal_data/5_35_02May18_232714_runs//_bal_1_1_2_mixedTripletStepHitDoubletsA_dnn_doublets_00.h5\n",
      "Loading file 12/16 : /lustre/cms/store/user/adiflori/ConvPixels/TTBar_13TeV_PU_35/bal_data/5_35_02May18_224354_runs//_bal_1_1_2_mixedTripletStepHitDoubletsA_dnn_doublets_00.h5\n",
      "Loading file 13/16 : /lustre/cms/store/user/adiflori/ConvPixels/TTBar_13TeV_PU_35/bal_data/5_35_02May18_224754_runs//_bal_1_1_2_mixedTripletStepHitDoubletsA_dnn_doublets_00.h5\n",
      "Loading file 14/16 : /lustre/cms/store/user/adiflori/ConvPixels/TTBar_13TeV_PU_35/bal_data/5_35_02May18_221208_runs//_bal_1_1_4_lowPtQuadStepHitDoublets_dnn_doublets_02.h5\n",
      "Loading file 15/16 : /lustre/cms/store/user/adiflori/ConvPixels/TTBar_13TeV_PU_35/bal_data/5_35_02May18_221457_runs//_bal_1_1_2_mixedTripletStepHitDoubletsA_dnn_doublets_00.h5\n",
      "Loading file 16/16 : /lustre/cms/store/user/adiflori/ConvPixels/TTBar_13TeV_PU_35/bal_data/5_35_02May18_221630_runs//_bal_1_1_2_mixedTripletStepHitDoubletsA_dnn_doublets_00.h5\n",
      "Loading file 1/15 : /lustre/cms/store/user/adiflori/ConvPixels/TTBar_13TeV_PU_35/bal_data/5_35_02May18_221710_runs//_bal_1_1_4_lowPtQuadStepHitDoublets_dnn_doublets_02.h5\n",
      "Loading file 2/15 : /lustre/cms/store/user/adiflori/ConvPixels/TTBar_13TeV_PU_35/bal_data/5_35_02May18_231708_runs//_bal_1_1_4_lowPtQuadStepHitDoublets_dnn_doublets_02.h5\n",
      "Loading file 3/15 : /lustre/cms/store/user/adiflori/ConvPixels/TTBar_13TeV_PU_35/bal_data/5_35_02May18_224042_runs//_bal_1_1_2_mixedTripletStepHitDoubletsA_dnn_doublets_00.h5\n",
      "Loading file 4/15 : /lustre/cms/store/user/adiflori/ConvPixels/TTBar_13TeV_PU_35/bal_data/5_35_02May18_222148_runs//_bal_1_1_4_lowPtQuadStepHitDoublets_dnn_doublets_02.h5\n",
      "Loading file 5/15 : /lustre/cms/store/user/adiflori/ConvPixels/TTBar_13TeV_PU_35/bal_data/5_35_02May18_220858_runs//_bal_1_1_4_lowPtQuadStepHitDoublets_dnn_doublets_02.h5\n",
      "Loading file 6/15 : /lustre/cms/store/user/adiflori/ConvPixels/TTBar_13TeV_PU_35/bal_data/5_35_02May18_224645_runs//_bal_1_1_2_mixedTripletStepHitDoubletsA_dnn_doublets_00.h5\n",
      "Loading file 7/15 : /lustre/cms/store/user/adiflori/ConvPixels/TTBar_13TeV_PU_35/bal_data/5_35_02May18_232100_runs//_bal_1_1_4_lowPtQuadStepHitDoublets_dnn_doublets_02.h5\n",
      "Loading file 8/15 : /lustre/cms/store/user/adiflori/ConvPixels/TTBar_13TeV_PU_35/bal_data/5_35_02May18_225023_runs//_bal_1_1_2_mixedTripletStepHitDoubletsA_dnn_doublets_00.h5\n",
      "Loading file 9/15 : /lustre/cms/store/user/adiflori/ConvPixels/TTBar_13TeV_PU_35/bal_data/5_35_02May18_221359_runs//_bal_1_1_4_lowPtQuadStepHitDoublets_dnn_doublets_02.h5\n",
      "Loading file 10/15 : /lustre/cms/store/user/adiflori/ConvPixels/TTBar_13TeV_PU_35/bal_data/5_35_02May18_222333_runs//_bal_1_1_2_mixedTripletStepHitDoubletsA_dnn_doublets_00.h5\n",
      "Loading file 11/15 : /lustre/cms/store/user/adiflori/ConvPixels/TTBar_13TeV_PU_35/bal_data/5_35_02May18_223848_runs//_bal_1_1_2_mixedTripletStepHitDoubletsA_dnn_doublets_00.h5\n",
      "Loading file 12/15 : /lustre/cms/store/user/adiflori/ConvPixels/TTBar_13TeV_PU_35/bal_data/5_35_02May18_222558_runs//_bal_1_1_2_mixedTripletStepHitDoubletsA_dnn_doublets_00.h5\n",
      "Loading file 13/15 : /lustre/cms/store/user/adiflori/ConvPixels/TTBar_13TeV_PU_35/bal_data/5_35_02May18_230511_runs//_bal_1_1_2_mixedTripletStepHitDoubletsA_dnn_doublets_00.h5\n",
      "Loading file 14/15 : /lustre/cms/store/user/adiflori/ConvPixels/TTBar_13TeV_PU_35/bal_data/5_35_02May18_225110_runs//_bal_1_1_4_lowPtQuadStepHitDoublets_dnn_doublets_02.h5\n",
      "Loading file 15/15 : /lustre/cms/store/user/adiflori/ConvPixels/TTBar_13TeV_PU_35/bal_data/5_35_02May18_224758_runs//_bal_1_1_4_lowPtQuadStepHitDoublets_dnn_doublets_02.h5\n",
      "Loading file 1/50 : /lustre/cms/store/user/adiflori/ConvPixels/TTBar_13TeV_PU_35/bal_data/5_35_02May18_223545_runs//_bal_1_1_2_mixedTripletStepHitDoubletsA_dnn_doublets_00.h5\n",
      "Loading file 2/50 : /lustre/cms/store/user/adiflori/ConvPixels/TTBar_13TeV_PU_35/bal_data/5_35_02May18_222927_runs//_bal_1_1_4_lowPtQuadStepHitDoublets_dnn_doublets_02.h5\n",
      "Loading file 3/50 : /lustre/cms/store/user/adiflori/ConvPixels/TTBar_13TeV_PU_35/bal_data/5_35_02May18_223912_runs//_bal_1_1_2_mixedTripletStepHitDoubletsA_dnn_doublets_00.h5\n",
      "Loading file 4/50 : /lustre/cms/store/user/adiflori/ConvPixels/TTBar_13TeV_PU_35/bal_data/5_35_02May18_224210_runs//_bal_1_1_2_mixedTripletStepHitDoubletsA_dnn_doublets_00.h5\n",
      "Loading file 5/50 : /lustre/cms/store/user/adiflori/ConvPixels/TTBar_13TeV_PU_35/bal_data/5_35_02May18_233615_runs//_bal_1_1_4_lowPtQuadStepHitDoublets_dnn_doublets_02.h5\n",
      "Loading file 6/50 : /lustre/cms/store/user/adiflori/ConvPixels/TTBar_13TeV_PU_35/bal_data/5_35_02May18_222752_runs//_bal_1_1_4_lowPtQuadStepHitDoublets_dnn_doublets_02.h5\n",
      "Loading file 7/50 : /lustre/cms/store/user/adiflori/ConvPixels/TTBar_13TeV_PU_35/bal_data/5_35_02May18_231628_runs//_bal_1_1_4_lowPtQuadStepHitDoublets_dnn_doublets_02.h5\n",
      "Loading file 8/50 : /lustre/cms/store/user/adiflori/ConvPixels/TTBar_13TeV_PU_35/bal_data/5_35_02May18_231415_runs//_bal_1_1_2_mixedTripletStepHitDoubletsA_dnn_doublets_00.h5\n",
      "Loading file 9/50 : /lustre/cms/store/user/adiflori/ConvPixels/TTBar_13TeV_PU_35/bal_data/5_35_02May18_223359_runs//_bal_1_1_2_mixedTripletStepHitDoubletsA_dnn_doublets_00.h5\n",
      "Loading file 10/50 : /lustre/cms/store/user/adiflori/ConvPixels/TTBar_13TeV_PU_35/bal_data/5_35_02May18_233436_runs//_bal_1_1_2_mixedTripletStepHitDoubletsA_dnn_doublets_00.h5\n",
      "Loading file 11/50 : /lustre/cms/store/user/adiflori/ConvPixels/TTBar_13TeV_PU_35/bal_data/5_35_02May18_221727_runs//_bal_1_1_2_mixedTripletStepHitDoubletsA_dnn_doublets_00.h5\n",
      "Loading file 12/50 : /lustre/cms/store/user/adiflori/ConvPixels/TTBar_13TeV_PU_35/bal_data/5_35_02May18_222242_runs//_bal_1_1_4_lowPtQuadStepHitDoublets_dnn_doublets_02.h5\n",
      "Loading file 13/50 : /lustre/cms/store/user/adiflori/ConvPixels/TTBar_13TeV_PU_35/bal_data/5_35_02May18_225649_runs//_bal_1_1_2_mixedTripletStepHitDoubletsA_dnn_doublets_00.h5\n",
      "Loading file 14/50 : /lustre/cms/store/user/adiflori/ConvPixels/TTBar_13TeV_PU_35/bal_data/5_35_02May18_223827_runs//_bal_1_1_4_lowPtQuadStepHitDoublets_dnn_doublets_02.h5\n",
      "Loading file 15/50 : /lustre/cms/store/user/adiflori/ConvPixels/TTBar_13TeV_PU_35/bal_data/5_35_02May18_232409_runs//_bal_1_1_4_lowPtQuadStepHitDoublets_dnn_doublets_02.h5\n",
      "Loading file 16/50 : /lustre/cms/store/user/adiflori/ConvPixels/TTBar_13TeV_PU_35/bal_data/5_35_02May18_225340_runs//_bal_1_1_2_mixedTripletStepHitDoubletsA_dnn_doublets_00.h5\n",
      "Loading file 17/50 : /lustre/cms/store/user/adiflori/ConvPixels/TTBar_13TeV_PU_35/bal_data/5_35_02May18_223507_runs//_bal_1_1_4_lowPtQuadStepHitDoublets_dnn_doublets_02.h5\n"
     ]
    },
    {
     "name": "stdout",
     "output_type": "stream",
     "text": [
      "Loading file 18/50 : /lustre/cms/store/user/adiflori/ConvPixels/TTBar_13TeV_PU_35/bal_data/5_35_02May18_233634_runs//_bal_1_1_2_mixedTripletStepHitDoubletsA_dnn_doublets_00.h5\n",
      "Loading file 19/50 : /lustre/cms/store/user/adiflori/ConvPixels/TTBar_13TeV_PU_35/bal_data/5_35_02May18_225715_runs//_bal_1_1_4_lowPtQuadStepHitDoublets_dnn_doublets_02.h5\n",
      "Loading file 20/50 : /lustre/cms/store/user/adiflori/ConvPixels/TTBar_13TeV_PU_35/bal_data/5_35_02May18_225928_runs//_bal_1_1_2_mixedTripletStepHitDoubletsA_dnn_doublets_00.h5\n",
      "Loading file 21/50 : /lustre/cms/store/user/adiflori/ConvPixels/TTBar_13TeV_PU_35/bal_data/5_35_02May18_230725_runs//_bal_1_1_4_lowPtQuadStepHitDoublets_dnn_doublets_02.h5\n",
      "Loading file 22/50 : /lustre/cms/store/user/adiflori/ConvPixels/TTBar_13TeV_PU_35/bal_data/5_35_02May18_231018_runs//_bal_1_1_2_mixedTripletStepHitDoubletsA_dnn_doublets_00.h5\n",
      "Loading file 23/50 : /lustre/cms/store/user/adiflori/ConvPixels/TTBar_13TeV_PU_35/bal_data/5_35_02May18_232253_runs//_bal_1_1_4_lowPtQuadStepHitDoublets_dnn_doublets_02.h5\n",
      "Loading file 24/50 : /lustre/cms/store/user/adiflori/ConvPixels/TTBar_13TeV_PU_35/bal_data/5_35_02May18_232410_runs//_bal_1_1_2_mixedTripletStepHitDoubletsA_dnn_doublets_00.h5\n",
      "Loading file 25/50 : /lustre/cms/store/user/adiflori/ConvPixels/TTBar_13TeV_PU_35/bal_data/5_35_02May18_223933_runs//_bal_1_1_4_lowPtQuadStepHitDoublets_dnn_doublets_02.h5\n",
      "Loading file 26/50 : /lustre/cms/store/user/adiflori/ConvPixels/TTBar_13TeV_PU_35/bal_data/5_35_02May18_223713_runs//_bal_1_1_4_lowPtQuadStepHitDoublets_dnn_doublets_02.h5\n",
      "Loading file 27/50 : /lustre/cms/store/user/adiflori/ConvPixels/TTBar_13TeV_PU_35/bal_data/5_35_02May18_224103_runs//_bal_1_1_2_mixedTripletStepHitDoubletsA_dnn_doublets_00.h5\n",
      "Loading file 28/50 : /lustre/cms/store/user/adiflori/ConvPixels/TTBar_13TeV_PU_35/bal_data/5_35_02May18_223819_runs//_bal_1_1_2_mixedTripletStepHitDoubletsA_dnn_doublets_00.h5\n",
      "Loading file 29/50 : /lustre/cms/store/user/adiflori/ConvPixels/TTBar_13TeV_PU_35/bal_data/5_35_02May18_222112_runs//_bal_1_1_2_mixedTripletStepHitDoubletsA_dnn_doublets_00.h5\n",
      "Loading file 30/50 : /lustre/cms/store/user/adiflori/ConvPixels/TTBar_13TeV_PU_35/bal_data/5_35_02May18_230410_runs//_bal_1_1_2_mixedTripletStepHitDoubletsA_dnn_doublets_00.h5\n",
      "Loading file 31/50 : /lustre/cms/store/user/adiflori/ConvPixels/TTBar_13TeV_PU_35/bal_data/5_35_02May18_231229_runs//_bal_1_1_4_lowPtQuadStepHitDoublets_dnn_doublets_02.h5\n",
      "Loading file 32/50 : /lustre/cms/store/user/adiflori/ConvPixels/TTBar_13TeV_PU_35/bal_data/5_35_02May18_231550_runs//_bal_1_1_2_mixedTripletStepHitDoubletsA_dnn_doublets_00.h5\n",
      "Loading file 33/50 : /lustre/cms/store/user/adiflori/ConvPixels/TTBar_13TeV_PU_35/bal_data/5_35_02May18_223935_runs//_bal_1_1_4_lowPtQuadStepHitDoublets_dnn_doublets_02.h5\n",
      "Loading file 34/50 : /lustre/cms/store/user/adiflori/ConvPixels/TTBar_13TeV_PU_35/bal_data/5_35_02May18_232936_runs//_bal_1_1_2_mixedTripletStepHitDoubletsA_dnn_doublets_00.h5\n",
      "Loading file 35/50 : /lustre/cms/store/user/adiflori/ConvPixels/TTBar_13TeV_PU_35/bal_data/5_35_02May18_223633_runs//_bal_1_1_2_mixedTripletStepHitDoubletsA_dnn_doublets_00.h5\n",
      "Loading file 36/50 : /lustre/cms/store/user/adiflori/ConvPixels/TTBar_13TeV_PU_35/bal_data/5_35_02May18_224531_runs//_bal_1_1_2_mixedTripletStepHitDoubletsA_dnn_doublets_00.h5\n",
      "Loading file 37/50 : /lustre/cms/store/user/adiflori/ConvPixels/TTBar_13TeV_PU_35/bal_data/5_35_02May18_230532_runs//_bal_1_1_2_mixedTripletStepHitDoubletsA_dnn_doublets_00.h5\n",
      "Loading file 38/50 : /lustre/cms/store/user/adiflori/ConvPixels/TTBar_13TeV_PU_35/bal_data/5_35_02May18_221835_runs//_bal_1_1_2_mixedTripletStepHitDoubletsA_dnn_doublets_00.h5\n",
      "Loading file 39/50 : /lustre/cms/store/user/adiflori/ConvPixels/TTBar_13TeV_PU_35/bal_data/5_35_02May18_225608_runs//_bal_1_1_2_mixedTripletStepHitDoubletsA_dnn_doublets_00.h5\n",
      "Loading file 40/50 : /lustre/cms/store/user/adiflori/ConvPixels/TTBar_13TeV_PU_35/bal_data/5_35_02May18_224619_runs//_bal_1_1_4_lowPtQuadStepHitDoublets_dnn_doublets_02.h5\n",
      "Loading file 41/50 : /lustre/cms/store/user/adiflori/ConvPixels/TTBar_13TeV_PU_35/bal_data/5_35_02May18_224743_runs//_bal_1_1_2_mixedTripletStepHitDoubletsA_dnn_doublets_00.h5\n",
      "Loading file 42/50 : /lustre/cms/store/user/adiflori/ConvPixels/TTBar_13TeV_PU_35/bal_data/5_35_02May18_233538_runs//_bal_1_1_2_mixedTripletStepHitDoubletsA_dnn_doublets_00.h5\n",
      "Loading file 43/50 : /lustre/cms/store/user/adiflori/ConvPixels/TTBar_13TeV_PU_35/bal_data/5_35_02May18_233459_runs//_bal_1_1_4_lowPtQuadStepHitDoublets_dnn_doublets_02.h5\n",
      "Loading file 44/50 : /lustre/cms/store/user/adiflori/ConvPixels/TTBar_13TeV_PU_35/bal_data/5_35_02May18_224729_runs//_bal_1_1_2_mixedTripletStepHitDoubletsA_dnn_doublets_00.h5\n",
      "Loading file 45/50 : /lustre/cms/store/user/adiflori/ConvPixels/TTBar_13TeV_PU_35/bal_data/5_35_02May18_221529_runs//_bal_1_1_2_mixedTripletStepHitDoubletsA_dnn_doublets_00.h5\n",
      "Loading file 46/50 : /lustre/cms/store/user/adiflori/ConvPixels/TTBar_13TeV_PU_35/bal_data/5_35_02May18_223913_runs//_bal_1_1_4_lowPtQuadStepHitDoublets_dnn_doublets_02.h5\n",
      "Loading file 47/50 : /lustre/cms/store/user/adiflori/ConvPixels/TTBar_13TeV_PU_35/bal_data/5_35_02May18_230456_runs//_bal_1_1_4_lowPtQuadStepHitDoublets_dnn_doublets_02.h5\n",
      "Loading file 48/50 : /lustre/cms/store/user/adiflori/ConvPixels/TTBar_13TeV_PU_35/bal_data/5_35_02May18_221118_runs//_bal_1_1_2_mixedTripletStepHitDoubletsA_dnn_doublets_00.h5\n",
      "Loading file 49/50 : /lustre/cms/store/user/adiflori/ConvPixels/TTBar_13TeV_PU_35/bal_data/5_35_02May18_233616_runs//_bal_1_1_2_mixedTripletStepHitDoubletsA_dnn_doublets_00.h5\n",
      "Loading file 50/50 : /lustre/cms/store/user/adiflori/ConvPixels/TTBar_13TeV_PU_35/bal_data/5_35_02May18_231342_runs//_bal_1_1_2_mixedTripletStepHitDoubletsA_dnn_doublets_00.h5\n"
     ]
    }
   ],
   "source": [
    "val_data = Dataset(val_files)\n",
    "test_data = Dataset(test_files)\n",
    "train_data = Dataset(train_files)"
   ]
  },
  {
   "cell_type": "code",
   "execution_count": 92,
   "metadata": {},
   "outputs": [],
   "source": [
    "X_val_hit, X_val_info, y_val = val_data.get_layer_map_data(labs=theInfos)\n",
    "X_test_hit, X_test_info, y_test = test_data.get_layer_map_data(labs=theInfos)\n",
    "X_train_hit, X_train_info, y_train = train_data.get_layer_map_data(labs=theInfos)"
   ]
  },
  {
   "cell_type": "code",
   "execution_count": 95,
   "metadata": {},
   "outputs": [
    {
     "data": {
      "text/plain": [
       "(92432, 2, 16, 16)"
      ]
     },
     "execution_count": 95,
     "metadata": {},
     "output_type": "execute_result"
    }
   ],
   "source": [
    "X_val_hit = X_val_hit.transpose(0,3,1,2)\n",
    "X_val_hit.shape"
   ]
  },
  {
   "cell_type": "code",
   "execution_count": 96,
   "metadata": {},
   "outputs": [
    {
     "data": {
      "text/plain": [
       "(88664, 2, 16, 16)"
      ]
     },
     "execution_count": 96,
     "metadata": {},
     "output_type": "execute_result"
    }
   ],
   "source": [
    "X_test_hit = X_test_hit.transpose(0,3,1,2)\n",
    "X_test_hit.shape"
   ]
  },
  {
   "cell_type": "code",
   "execution_count": 97,
   "metadata": {},
   "outputs": [
    {
     "data": {
      "text/plain": [
       "(191896, 2, 16, 16)"
      ]
     },
     "execution_count": 97,
     "metadata": {},
     "output_type": "execute_result"
    }
   ],
   "source": [
    "X_train_hit = X_train_hit.transpose(0,3,1,2)\n",
    "X_train_hit.shape"
   ]
  },
  {
   "cell_type": "code",
   "execution_count": 98,
   "metadata": {},
   "outputs": [],
   "source": [
    "def pixel_only_model(img_size = 16, n_channels=20):\n",
    "    hit_shapes = Input(shape=(n_channels,img_size, img_size), name='hit_shape_input')\n",
    "    \n",
    "    b_norm = BatchNormalization()(hit_shapes)\n",
    "    #drop = Dropout(args.dropout)(hit_shapes)\n",
    "    conv = Conv2D(64, (3, 3), activation='relu', padding='same', data_format=\"channels_first\", name='conv1')(hit_shapes)\n",
    "    conv = Conv2D(64, (3, 3), activation='relu', padding='same', data_format=\"channels_first\", name='conv2')(conv)\n",
    "    b_norm = BatchNormalization()(conv)\n",
    "    pool = MaxPooling2D(pool_size=(2, 2), padding='same', data_format=\"channels_last\", name='pool1')(b_norm)\n",
    "\n",
    "    conv = Conv2D(128, (3, 3), activation='relu', padding='same', data_format=\"channels_first\", name='conv3')(pool)\n",
    "    conv = Conv2D(128, (3, 3), activation='relu', padding='same', data_format=\"channels_first\", name='conv4')(conv)\n",
    "    b_norm = BatchNormalization()(conv)\n",
    "    pool = MaxPooling2D(pool_size=(2, 2), padding='same', data_format=\"channels_first\", name='pool2')(b_norm)\n",
    "\n",
    "    flat = Flatten()(pool)\n",
    "\n",
    "    #drop = Dropout(args.dropout)(flat)\n",
    "    dense = Dense(128, activation='relu', kernel_constraint=max_norm(1.0), name='dense1')(flat)\n",
    "    #drop = Dropout(args.dropout)(dense)\n",
    "    b_norm = BatchNormalization()(dense)\n",
    "    dense = Dense(64, activation='relu', kernel_constraint=max_norm(1.0), name='dense2')(b_norm)\n",
    "    #drop = Dropout(args.dropout)(dense)\n",
    "    pred = Dense(2, activation='softmax', kernel_constraint=max_norm(1.0), name='output')(dense)\n",
    "\n",
    "    model = Model(inputs=hit_shapes, outputs=pred)\n",
    "    #my_sgd = optimizers.SGD(lr=args.lr, decay=1e-4, momentum=args.momentum, nesterov=True)\n",
    "    model.compile(optimizer=\"adam\", loss='categorical_crossentropy', metrics=['accuracy'])\n",
    "    return model\n",
    "\n"
   ]
  },
  {
   "cell_type": "code",
   "execution_count": 99,
   "metadata": {},
   "outputs": [],
   "source": [
    "model = pixel_only_model(n_channels=X_train_hit.shape[1]) "
   ]
  },
  {
   "cell_type": "code",
   "execution_count": 100,
   "metadata": {},
   "outputs": [
    {
     "name": "stdout",
     "output_type": "stream",
     "text": [
      "_________________________________________________________________\n",
      "Layer (type)                 Output Shape              Param #   \n",
      "=================================================================\n",
      "hit_shape_input (InputLayer) (None, 2, 16, 16)         0         \n",
      "_________________________________________________________________\n",
      "conv1 (Conv2D)               (None, 64, 16, 16)        1216      \n",
      "_________________________________________________________________\n",
      "conv2 (Conv2D)               (None, 64, 16, 16)        36928     \n",
      "_________________________________________________________________\n",
      "batch_normalization_16 (Batc (None, 64, 16, 16)        64        \n",
      "_________________________________________________________________\n",
      "pool1 (MaxPooling2D)         (None, 32, 8, 16)         0         \n",
      "_________________________________________________________________\n",
      "conv3 (Conv2D)               (None, 128, 8, 16)        36992     \n",
      "_________________________________________________________________\n",
      "conv4 (Conv2D)               (None, 128, 8, 16)        147584    \n",
      "_________________________________________________________________\n",
      "batch_normalization_17 (Batc (None, 128, 8, 16)        64        \n",
      "_________________________________________________________________\n",
      "pool2 (MaxPooling2D)         (None, 128, 4, 8)         0         \n",
      "_________________________________________________________________\n",
      "flatten_5 (Flatten)          (None, 4096)              0         \n",
      "_________________________________________________________________\n",
      "dense1 (Dense)               (None, 128)               524416    \n",
      "_________________________________________________________________\n",
      "batch_normalization_18 (Batc (None, 128)               512       \n",
      "_________________________________________________________________\n",
      "dense2 (Dense)               (None, 64)                8256      \n",
      "_________________________________________________________________\n",
      "output (Dense)               (None, 2)                 130       \n",
      "=================================================================\n",
      "Total params: 756,162\n",
      "Trainable params: 755,842\n",
      "Non-trainable params: 320\n",
      "_________________________________________________________________\n"
     ]
    }
   ],
   "source": [
    "model.summary()"
   ]
  },
  {
   "cell_type": "code",
   "execution_count": 101,
   "metadata": {},
   "outputs": [],
   "source": [
    "callbacks = [\n",
    "        EarlyStopping(monitor='val_loss', patience=20),\n",
    "        #ModelCheckpoint(fname + \"_last.h5\", save_best_only=True,\n",
    "                        #save_weights_only=True),\n",
    "        #TensorBoard(log_dir=log_dir_tf, histogram_freq=0,\n",
    "                    #write_graph=True, write_images=True)\n",
    "\t\t#roc_callback(training_data=(train_input_list,y),validation_data=(val_input_list,y_val))\n",
    "    ]"
   ]
  },
  {
   "cell_type": "code",
   "execution_count": 102,
   "metadata": {},
   "outputs": [
    {
     "name": "stdout",
     "output_type": "stream",
     "text": [
      "Train on 191896 samples, validate on 92432 samples\n",
      "Epoch 1/5\n",
      "191896/191896 [==============================] - 36s 187us/step - loss: 0.6431 - acc: 0.6398 - val_loss: 0.7063 - val_acc: 0.5563\n",
      "Epoch 2/5\n",
      "191896/191896 [==============================] - 31s 160us/step - loss: 0.6060 - acc: 0.6740 - val_loss: 0.6943 - val_acc: 0.6056\n",
      "Epoch 3/5\n",
      "191896/191896 [==============================] - 31s 160us/step - loss: 0.5789 - acc: 0.6933 - val_loss: 0.6553 - val_acc: 0.6427\n",
      "Epoch 4/5\n",
      "191896/191896 [==============================] - 31s 160us/step - loss: 0.5524 - acc: 0.7149 - val_loss: 0.6498 - val_acc: 0.6560\n",
      "Epoch 5/5\n",
      "191896/191896 [==============================] - 31s 160us/step - loss: 0.5175 - acc: 0.7384 - val_loss: 0.6744 - val_acc: 0.6494\n"
     ]
    }
   ],
   "source": [
    "\n",
    "history = model.fit(X_train_hit, y_train, batch_size=2048, epochs=5, shuffle=True,validation_data=(X_val_hit,y_val), callbacks=callbacks, verbose=1)\n"
   ]
  },
  {
   "cell_type": "code",
   "execution_count": 103,
   "metadata": {},
   "outputs": [],
   "source": [
    "def max_binary_accuracy(y_true, y_pred,n=50):\n",
    "\n",
    "    thresholds = np.linspace(0.0,1.0,num=n)\n",
    "    accmax = 0\n",
    "    for t in thresholds:\n",
    "        acc = np.mean(((y_pred[:,0] > t).astype(float)==y_true[:,0]).astype(float))\n",
    "        if acc > accmax:\n",
    "            tmax = t\n",
    "            accmax = acc\n",
    "    return accmax,tmax"
   ]
  },
  {
   "cell_type": "code",
   "execution_count": 104,
   "metadata": {},
   "outputs": [
    {
     "name": "stdout",
     "output_type": "stream",
     "text": [
      "88664/88664 [==============================] - 5s 53us/step\n",
      "Test loss / test AUC       = 0.6610 / 0.7073 \n",
      "Test acc /  acc max (@t)   = 0.6587 / 0.6590 (0.479)\n"
     ]
    }
   ],
   "source": [
    "loss, acc = model.evaluate(X_test_hit, y_test, batch_size=2048)\n",
    "test_pred = model.predict(X_test_hit)\n",
    "test_roc = roc_auc_score(y_test, test_pred)\n",
    "test_acc,t_test = max_binary_accuracy(y_test,test_pred,n=1000)\n",
    "print('Test loss / test AUC       = {:.4f} / {:.4f} '.format(loss,test_roc))\n",
    "print('Test acc /  acc max (@t)   = {:.4f} / {:.4f} ({:.3f})'.format(acc,test_acc,t_test))"
   ]
  },
  {
   "cell_type": "code",
   "execution_count": 129,
   "metadata": {},
   "outputs": [
    {
     "name": "stdout",
     "output_type": "stream",
     "text": [
      "191896/191896 [==============================] - 10s 55us/step\n",
      "Train loss / train AUC       = 0.5326 / 0.8072 \n",
      "Train acc /  acc max (@t)   = 0.7270 / 0.7317 (0.444)\n"
     ]
    }
   ],
   "source": [
    "loss, acc = model.evaluate(X_train_hit, y_train, batch_size=1024)\n",
    "test_pred = model.predict(X_train_hit)\n",
    "train_roc = roc_auc_score(y_train, test_pred)\n",
    "train_acc,t_train = max_binary_accuracy(y_train,test_pred,n=100)\n",
    "print('Train loss / train AUC       = {:.4f} / {:.4f} '.format(loss,train_roc))\n",
    "print('Train acc /  acc max (@t)   = {:.4f} / {:.4f} ({:.3f})'.format(acc,train_acc,t_train))"
   ]
  },
  {
   "cell_type": "markdown",
   "metadata": {},
   "source": [
    "# Saving Data"
   ]
  },
  {
   "cell_type": "code",
   "execution_count": 109,
   "metadata": {
    "scrolled": true
   },
   "outputs": [
    {
     "data": {
      "text/plain": [
       "array([[    0.,     0.,     0.,     0.,     0.,     0.,     0.,     0.,\n",
       "            0.,     0.,     0.,     0.,     0.,     0.,     0.,     0.],\n",
       "       [    0.,     0.,     0.,     0.,     0.,     0.,     0.,     0.,\n",
       "            0.,     0.,     0.,     0.,     0.,     0.,     0.,     0.],\n",
       "       [    0.,     0.,     0.,     0.,     0.,     0.,     0.,     0.,\n",
       "            0.,     0.,     0.,     0.,     0.,     0.,     0.,     0.],\n",
       "       [    0.,     0.,     0.,     0.,     0.,     0.,     0.,     0.,\n",
       "            0.,     0.,     0.,     0.,     0.,     0.,     0.,     0.],\n",
       "       [    0.,     0.,     0.,     0.,     0.,     0.,     0.,     0.,\n",
       "            0.,     0.,     0.,     0.,     0.,     0.,     0.,     0.],\n",
       "       [    0.,     0.,     0.,     0.,     0.,     0.,     0.,     0.,\n",
       "            0.,     0.,     0.,     0.,     0.,     0.,     0.,     0.],\n",
       "       [    0.,     0.,     0.,     0.,     0.,     0.,     0.,     0.,\n",
       "        12480.,     0.,     0.,     0.,     0.,     0.,     0.,     0.],\n",
       "       [    0.,     0.,     0.,     0.,     0.,     0.,     0.,     0.,\n",
       "        16420.,     0.,     0.,     0.,     0.,     0.,     0.,     0.],\n",
       "       [    0.,     0.,     0.,     0.,     0.,     0.,     0.,     0.,\n",
       "        34050.,     0.,     0.,     0.,     0.,     0.,     0.,     0.],\n",
       "       [    0.,     0.,     0.,     0.,     0.,     0.,     0.,     0.,\n",
       "        11060.,     0.,     0.,     0.,     0.,     0.,     0.,     0.],\n",
       "       [    0.,     0.,     0.,     0.,     0.,     0.,     0.,     0.,\n",
       "         5924.,     0.,     0.,     0.,     0.,     0.,     0.,     0.],\n",
       "       [    0.,     0.,     0.,     0.,     0.,     0.,     0.,     0.,\n",
       "            0.,     0.,     0.,     0.,     0.,     0.,     0.,     0.],\n",
       "       [    0.,     0.,     0.,     0.,     0.,     0.,     0.,     0.,\n",
       "            0.,     0.,     0.,     0.,     0.,     0.,     0.,     0.],\n",
       "       [    0.,     0.,     0.,     0.,     0.,     0.,     0.,     0.,\n",
       "            0.,     0.,     0.,     0.,     0.,     0.,     0.,     0.],\n",
       "       [    0.,     0.,     0.,     0.,     0.,     0.,     0.,     0.,\n",
       "            0.,     0.,     0.,     0.,     0.,     0.,     0.,     0.],\n",
       "       [    0.,     0.,     0.,     0.,     0.,     0.,     0.,     0.,\n",
       "            0.,     0.,     0.,     0.,     0.,     0.,     0.,     0.]],\n",
       "      dtype=float16)"
      ]
     },
     "execution_count": 109,
     "metadata": {},
     "output_type": "execute_result"
    }
   ],
   "source": [
    "X_train_hit[0,0,:,:]"
   ]
  },
  {
   "cell_type": "code",
   "execution_count": 121,
   "metadata": {},
   "outputs": [],
   "source": [
    "data_linear      = X_train_hit.reshape(X_train_hit.shape[0],-1)\n",
    "data_linear_val  = X_val_hit.reshape(X_val_hit.shape[0],-1)\n",
    "data_linear_test = X_test_hit.reshape(X_test_hit.shape[0],-1)"
   ]
  },
  {
   "cell_type": "code",
   "execution_count": 111,
   "metadata": {},
   "outputs": [
    {
     "data": {
      "text/plain": [
       "(191896, 512)"
      ]
     },
     "execution_count": 111,
     "metadata": {},
     "output_type": "execute_result"
    }
   ],
   "source": [
    "data_linear.shape"
   ]
  },
  {
   "cell_type": "code",
   "execution_count": 112,
   "metadata": {},
   "outputs": [
    {
     "data": {
      "text/plain": [
       "array([    0.,     0.,     0.,     0.,     0.,     0.,     0.,     0.,\n",
       "           0.,     0.,     0.,     0.,     0.,     0.,     0.,     0.,\n",
       "           0.,     0.,     0.,     0.,     0.,     0.,     0.,     0.,\n",
       "           0.,     0.,     0.,     0.,     0.,     0.,     0.,     0.,\n",
       "           0.,     0.,     0.,     0.,     0.,     0.,     0.,     0.,\n",
       "           0.,     0.,     0.,     0.,     0.,     0.,     0.,     0.,\n",
       "           0.,     0.,     0.,     0.,     0.,     0.,     0.,     0.,\n",
       "           0.,     0.,     0.,     0.,     0.,     0.,     0.,     0.,\n",
       "           0.,     0.,     0.,     0.,     0.,     0.,     0.,     0.,\n",
       "           0.,     0.,     0.,     0.,     0.,     0.,     0.,     0.,\n",
       "           0.,     0.,     0.,     0.,     0.,     0.,     0.,     0.,\n",
       "           0.,     0.,     0.,     0.,     0.,     0.,     0.,     0.,\n",
       "           0.,     0.,     0.,     0.,     0.,     0.,     0.,     0.,\n",
       "       12480.,     0.,     0.,     0.,     0.,     0.,     0.,     0.,\n",
       "           0.,     0.,     0.,     0.,     0.,     0.,     0.,     0.,\n",
       "       16420.,     0.,     0.,     0.,     0.,     0.,     0.,     0.,\n",
       "           0.,     0.,     0.,     0.,     0.,     0.,     0.,     0.,\n",
       "       34050.,     0.,     0.,     0.,     0.,     0.,     0.,     0.,\n",
       "           0.,     0.,     0.,     0.,     0.,     0.,     0.,     0.,\n",
       "       11060.,     0.,     0.,     0.,     0.,     0.,     0.,     0.,\n",
       "           0.,     0.,     0.,     0.,     0.,     0.,     0.,     0.,\n",
       "        5924.,     0.,     0.,     0.,     0.,     0.,     0.,     0.,\n",
       "           0.,     0.,     0.,     0.,     0.,     0.,     0.,     0.,\n",
       "           0.,     0.,     0.,     0.,     0.,     0.,     0.,     0.,\n",
       "           0.,     0.,     0.,     0.,     0.,     0.,     0.,     0.,\n",
       "           0.,     0.,     0.,     0.,     0.,     0.,     0.,     0.,\n",
       "           0.,     0.,     0.,     0.,     0.,     0.,     0.,     0.,\n",
       "           0.,     0.,     0.,     0.,     0.,     0.,     0.,     0.,\n",
       "           0.,     0.,     0.,     0.,     0.,     0.,     0.,     0.,\n",
       "           0.,     0.,     0.,     0.,     0.,     0.,     0.,     0.,\n",
       "           0.,     0.,     0.,     0.,     0.,     0.,     0.,     0.,\n",
       "           0.,     0.,     0.,     0.,     0.,     0.,     0.,     0.],\n",
       "      dtype=float16)"
      ]
     },
     "execution_count": 112,
     "metadata": {},
     "output_type": "execute_result"
    }
   ],
   "source": [
    "data_linear[0][0:256]"
   ]
  },
  {
   "cell_type": "code",
   "execution_count": 113,
   "metadata": {},
   "outputs": [
    {
     "data": {
      "text/plain": [
       "array([[    0.,     0.,     0.,     0.,     0.,     0.,     0.,     0.,\n",
       "            0.,     0.,     0.,     0.,     0.,     0.,     0.,     0.],\n",
       "       [    0.,     0.,     0.,     0.,     0.,     0.,     0.,     0.,\n",
       "            0.,     0.,     0.,     0.,     0.,     0.,     0.,     0.],\n",
       "       [    0.,     0.,     0.,     0.,     0.,     0.,     0.,     0.,\n",
       "            0.,     0.,     0.,     0.,     0.,     0.,     0.,     0.],\n",
       "       [    0.,     0.,     0.,     0.,     0.,     0.,     0.,     0.,\n",
       "            0.,     0.,     0.,     0.,     0.,     0.,     0.,     0.],\n",
       "       [    0.,     0.,     0.,     0.,     0.,     0.,     0.,     0.,\n",
       "            0.,     0.,     0.,     0.,     0.,     0.,     0.,     0.],\n",
       "       [    0.,     0.,     0.,     0.,     0.,     0.,     0.,     0.,\n",
       "            0.,     0.,     0.,     0.,     0.,     0.,     0.,     0.],\n",
       "       [    0.,     0.,     0.,     0.,     0.,     0.,     0.,     0.,\n",
       "        12480.,     0.,     0.,     0.,     0.,     0.,     0.,     0.],\n",
       "       [    0.,     0.,     0.,     0.,     0.,     0.,     0.,     0.,\n",
       "        16420.,     0.,     0.,     0.,     0.,     0.,     0.,     0.],\n",
       "       [    0.,     0.,     0.,     0.,     0.,     0.,     0.,     0.,\n",
       "        34050.,     0.,     0.,     0.,     0.,     0.,     0.,     0.],\n",
       "       [    0.,     0.,     0.,     0.,     0.,     0.,     0.,     0.,\n",
       "        11060.,     0.,     0.,     0.,     0.,     0.,     0.,     0.],\n",
       "       [    0.,     0.,     0.,     0.,     0.,     0.,     0.,     0.,\n",
       "         5924.,     0.,     0.,     0.,     0.,     0.,     0.,     0.],\n",
       "       [    0.,     0.,     0.,     0.,     0.,     0.,     0.,     0.,\n",
       "            0.,     0.,     0.,     0.,     0.,     0.,     0.,     0.],\n",
       "       [    0.,     0.,     0.,     0.,     0.,     0.,     0.,     0.,\n",
       "            0.,     0.,     0.,     0.,     0.,     0.,     0.,     0.],\n",
       "       [    0.,     0.,     0.,     0.,     0.,     0.,     0.,     0.,\n",
       "            0.,     0.,     0.,     0.,     0.,     0.,     0.,     0.],\n",
       "       [    0.,     0.,     0.,     0.,     0.,     0.,     0.,     0.,\n",
       "            0.,     0.,     0.,     0.,     0.,     0.,     0.,     0.],\n",
       "       [    0.,     0.,     0.,     0.,     0.,     0.,     0.,     0.,\n",
       "            0.,     0.,     0.,     0.,     0.,     0.,     0.,     0.]],\n",
       "      dtype=float16)"
      ]
     },
     "execution_count": 113,
     "metadata": {},
     "output_type": "execute_result"
    }
   ],
   "source": [
    "data_linear[0][0:256].reshape(16,16)"
   ]
  },
  {
   "cell_type": "code",
   "execution_count": 141,
   "metadata": {},
   "outputs": [
    {
     "data": {
      "text/html": [
       "<div>\n",
       "<style scoped>\n",
       "    .dataframe tbody tr th:only-of-type {\n",
       "        vertical-align: middle;\n",
       "    }\n",
       "\n",
       "    .dataframe tbody tr th {\n",
       "        vertical-align: top;\n",
       "    }\n",
       "\n",
       "    .dataframe thead th {\n",
       "        text-align: right;\n",
       "    }\n",
       "</style>\n",
       "<table border=\"1\" class=\"dataframe\">\n",
       "  <thead>\n",
       "    <tr style=\"text-align: right;\">\n",
       "      <th></th>\n",
       "      <th>inPix1</th>\n",
       "      <th>inPix2</th>\n",
       "      <th>inPix3</th>\n",
       "      <th>inPix4</th>\n",
       "      <th>inPix5</th>\n",
       "      <th>inPix6</th>\n",
       "      <th>inPix7</th>\n",
       "      <th>inPix8</th>\n",
       "      <th>inPix9</th>\n",
       "      <th>inPix10</th>\n",
       "      <th>...</th>\n",
       "      <th>outPix249</th>\n",
       "      <th>outPix250</th>\n",
       "      <th>outPix251</th>\n",
       "      <th>outPix252</th>\n",
       "      <th>outPix253</th>\n",
       "      <th>outPix254</th>\n",
       "      <th>outPix255</th>\n",
       "      <th>outPix256</th>\n",
       "      <th>y0</th>\n",
       "      <th>y1</th>\n",
       "    </tr>\n",
       "  </thead>\n",
       "  <tbody>\n",
       "    <tr>\n",
       "      <th>0</th>\n",
       "      <td>0.0</td>\n",
       "      <td>0.0</td>\n",
       "      <td>0.0</td>\n",
       "      <td>0.0</td>\n",
       "      <td>0.0</td>\n",
       "      <td>0.0</td>\n",
       "      <td>0.0</td>\n",
       "      <td>0.0</td>\n",
       "      <td>0.0</td>\n",
       "      <td>0.0</td>\n",
       "      <td>...</td>\n",
       "      <td>0.0</td>\n",
       "      <td>0.0</td>\n",
       "      <td>0.0</td>\n",
       "      <td>0.0</td>\n",
       "      <td>0.0</td>\n",
       "      <td>0.0</td>\n",
       "      <td>0.0</td>\n",
       "      <td>0.0</td>\n",
       "      <td>1.0</td>\n",
       "      <td>0.0</td>\n",
       "    </tr>\n",
       "    <tr>\n",
       "      <th>1</th>\n",
       "      <td>0.0</td>\n",
       "      <td>0.0</td>\n",
       "      <td>0.0</td>\n",
       "      <td>0.0</td>\n",
       "      <td>0.0</td>\n",
       "      <td>0.0</td>\n",
       "      <td>0.0</td>\n",
       "      <td>0.0</td>\n",
       "      <td>0.0</td>\n",
       "      <td>0.0</td>\n",
       "      <td>...</td>\n",
       "      <td>0.0</td>\n",
       "      <td>0.0</td>\n",
       "      <td>0.0</td>\n",
       "      <td>0.0</td>\n",
       "      <td>0.0</td>\n",
       "      <td>0.0</td>\n",
       "      <td>0.0</td>\n",
       "      <td>0.0</td>\n",
       "      <td>1.0</td>\n",
       "      <td>0.0</td>\n",
       "    </tr>\n",
       "    <tr>\n",
       "      <th>2</th>\n",
       "      <td>0.0</td>\n",
       "      <td>0.0</td>\n",
       "      <td>0.0</td>\n",
       "      <td>0.0</td>\n",
       "      <td>0.0</td>\n",
       "      <td>0.0</td>\n",
       "      <td>0.0</td>\n",
       "      <td>0.0</td>\n",
       "      <td>0.0</td>\n",
       "      <td>0.0</td>\n",
       "      <td>...</td>\n",
       "      <td>0.0</td>\n",
       "      <td>0.0</td>\n",
       "      <td>0.0</td>\n",
       "      <td>0.0</td>\n",
       "      <td>0.0</td>\n",
       "      <td>0.0</td>\n",
       "      <td>0.0</td>\n",
       "      <td>0.0</td>\n",
       "      <td>0.0</td>\n",
       "      <td>1.0</td>\n",
       "    </tr>\n",
       "    <tr>\n",
       "      <th>3</th>\n",
       "      <td>0.0</td>\n",
       "      <td>0.0</td>\n",
       "      <td>0.0</td>\n",
       "      <td>0.0</td>\n",
       "      <td>0.0</td>\n",
       "      <td>0.0</td>\n",
       "      <td>0.0</td>\n",
       "      <td>0.0</td>\n",
       "      <td>0.0</td>\n",
       "      <td>0.0</td>\n",
       "      <td>...</td>\n",
       "      <td>0.0</td>\n",
       "      <td>0.0</td>\n",
       "      <td>0.0</td>\n",
       "      <td>0.0</td>\n",
       "      <td>0.0</td>\n",
       "      <td>0.0</td>\n",
       "      <td>0.0</td>\n",
       "      <td>0.0</td>\n",
       "      <td>1.0</td>\n",
       "      <td>0.0</td>\n",
       "    </tr>\n",
       "    <tr>\n",
       "      <th>4</th>\n",
       "      <td>0.0</td>\n",
       "      <td>0.0</td>\n",
       "      <td>0.0</td>\n",
       "      <td>0.0</td>\n",
       "      <td>0.0</td>\n",
       "      <td>0.0</td>\n",
       "      <td>0.0</td>\n",
       "      <td>0.0</td>\n",
       "      <td>0.0</td>\n",
       "      <td>0.0</td>\n",
       "      <td>...</td>\n",
       "      <td>0.0</td>\n",
       "      <td>0.0</td>\n",
       "      <td>0.0</td>\n",
       "      <td>0.0</td>\n",
       "      <td>0.0</td>\n",
       "      <td>0.0</td>\n",
       "      <td>0.0</td>\n",
       "      <td>0.0</td>\n",
       "      <td>1.0</td>\n",
       "      <td>0.0</td>\n",
       "    </tr>\n",
       "  </tbody>\n",
       "</table>\n",
       "<p>5 rows × 514 columns</p>\n",
       "</div>"
      ],
      "text/plain": [
       "   inPix1  inPix2  inPix3  inPix4  inPix5  inPix6  inPix7  inPix8  inPix9  \\\n",
       "0     0.0     0.0     0.0     0.0     0.0     0.0     0.0     0.0     0.0   \n",
       "1     0.0     0.0     0.0     0.0     0.0     0.0     0.0     0.0     0.0   \n",
       "2     0.0     0.0     0.0     0.0     0.0     0.0     0.0     0.0     0.0   \n",
       "3     0.0     0.0     0.0     0.0     0.0     0.0     0.0     0.0     0.0   \n",
       "4     0.0     0.0     0.0     0.0     0.0     0.0     0.0     0.0     0.0   \n",
       "\n",
       "   inPix10 ...   outPix249  outPix250  outPix251  outPix252  outPix253  \\\n",
       "0      0.0 ...         0.0        0.0        0.0        0.0        0.0   \n",
       "1      0.0 ...         0.0        0.0        0.0        0.0        0.0   \n",
       "2      0.0 ...         0.0        0.0        0.0        0.0        0.0   \n",
       "3      0.0 ...         0.0        0.0        0.0        0.0        0.0   \n",
       "4      0.0 ...         0.0        0.0        0.0        0.0        0.0   \n",
       "\n",
       "   outPix254  outPix255  outPix256   y0   y1  \n",
       "0        0.0        0.0        0.0  1.0  0.0  \n",
       "1        0.0        0.0        0.0  1.0  0.0  \n",
       "2        0.0        0.0        0.0  0.0  1.0  \n",
       "3        0.0        0.0        0.0  1.0  0.0  \n",
       "4        0.0        0.0        0.0  1.0  0.0  \n",
       "\n",
       "[5 rows x 514 columns]"
      ]
     },
     "execution_count": 141,
     "metadata": {},
     "output_type": "execute_result"
    }
   ],
   "source": [
    "data_linear_train_df = pd.DataFrame(data_linear,columns=inPixels+outPixels)\n",
    "data_linear_train_df[\"y0\"] = y_train[:,0]\n",
    "data_linear_train_df[\"y1\"] = y_train[:,1]\n",
    "data_linear_train_df.head()\n",
    "data_linear_test_df = pd.DataFrame(data_linear_test,columns=inPixels+outPixels)\n",
    "data_linear_test_df[\"y0\"] = y_test[:,0]\n",
    "data_linear_test_df[\"y1\"] = y_test[:,1]\n",
    "data_linear_test_df.head()\n",
    "data_linear_val_df = pd.DataFrame(data_linear_val,columns=inPixels+outPixels)\n",
    "data_linear_val_df[\"y0\"] = y_val[:,0]\n",
    "data_linear_val_df[\"y1\"] = y_val[:,1]\n",
    "data_linear_val_df.head()"
   ]
  },
  {
   "cell_type": "code",
   "execution_count": 155,
   "metadata": {},
   "outputs": [],
   "source": [
    "data_linear_val_df.to_hdf(\"pixel_only_data_val.h5\",\"data\",append=False)\n",
    "data_linear_test_df.to_hdf(\"pixel_only_data_test.h5\",\"data\",append=False)\n",
    "data_linear_train_df.to_hdf(\"pixel_only_data_train.h5\",\"data\",append=False)"
   ]
  },
  {
   "cell_type": "code",
   "execution_count": 125,
   "metadata": {},
   "outputs": [],
   "source": [
    "def freeze_session(session, keep_var_names=None, output_names=None, clear_devices=True):\n",
    "    from tensorflow.python.framework.graph_util import convert_variables_to_constants\n",
    "    graph = session.graph\n",
    "    with graph.as_default():\n",
    "        freeze_var_names = list(set(v.op.name for v in tf.global_variables()).difference(keep_var_names or []))\n",
    "        output_names = output_names or []\n",
    "        output_names += [v.op.name for v in tf.global_variables()]\n",
    "        input_graph_def = graph.as_graph_def()\n",
    "        if clear_devices:\n",
    "            for node in input_graph_def.node:\n",
    "                node.device = \"\"\n",
    "        frozen_graph = convert_variables_to_constants(session, input_graph_def,\n",
    "                                                      output_names, freeze_var_names)\n",
    "        return frozen_graph"
   ]
  },
  {
   "cell_type": "markdown",
   "metadata": {},
   "source": [
    "# Saving model and test saved"
   ]
  },
  {
   "cell_type": "code",
   "execution_count": 126,
   "metadata": {},
   "outputs": [
    {
     "name": "stdout",
     "output_type": "stream",
     "text": [
      "INFO:tensorflow:Froze 337 variables.\n",
      "Converted 337 variables to const ops.\n"
     ]
    },
    {
     "data": {
      "text/plain": [
       "'./pixel_only_final.pb'"
      ]
     },
     "execution_count": 126,
     "metadata": {},
     "output_type": "execute_result"
    }
   ],
   "source": [
    "model.save_weights(\"pixel_only_final.h5\", overwrite=True)\n",
    "frozen_graph = freeze_session(K.get_session(),\n",
    "                              output_names=[out.op.name for out in model.outputs])\n",
    "tf.train.write_graph(frozen_graph, \"./\", \"pixel_only_final.pb\", as_text=False)"
   ]
  },
  {
   "cell_type": "code",
   "execution_count": 127,
   "metadata": {},
   "outputs": [],
   "source": [
    "model = pixel_only_model(n_channels=X_train_hit.shape[1]) "
   ]
  },
  {
   "cell_type": "code",
   "execution_count": 128,
   "metadata": {},
   "outputs": [],
   "source": [
    "model.load_weights(\"pixel_only_final.h5\")"
   ]
  },
  {
   "cell_type": "code",
   "execution_count": 143,
   "metadata": {},
   "outputs": [],
   "source": [
    "test_df = pd.read_hdf(\"pixel_only_data_test.h5\")"
   ]
  },
  {
   "cell_type": "code",
   "execution_count": 144,
   "metadata": {},
   "outputs": [
    {
     "data": {
      "text/html": [
       "<div>\n",
       "<style scoped>\n",
       "    .dataframe tbody tr th:only-of-type {\n",
       "        vertical-align: middle;\n",
       "    }\n",
       "\n",
       "    .dataframe tbody tr th {\n",
       "        vertical-align: top;\n",
       "    }\n",
       "\n",
       "    .dataframe thead th {\n",
       "        text-align: right;\n",
       "    }\n",
       "</style>\n",
       "<table border=\"1\" class=\"dataframe\">\n",
       "  <thead>\n",
       "    <tr style=\"text-align: right;\">\n",
       "      <th></th>\n",
       "      <th>inPix1</th>\n",
       "      <th>inPix2</th>\n",
       "      <th>inPix3</th>\n",
       "      <th>inPix4</th>\n",
       "      <th>inPix5</th>\n",
       "      <th>inPix6</th>\n",
       "      <th>inPix7</th>\n",
       "      <th>inPix8</th>\n",
       "      <th>inPix9</th>\n",
       "      <th>inPix10</th>\n",
       "      <th>...</th>\n",
       "      <th>outPix249</th>\n",
       "      <th>outPix250</th>\n",
       "      <th>outPix251</th>\n",
       "      <th>outPix252</th>\n",
       "      <th>outPix253</th>\n",
       "      <th>outPix254</th>\n",
       "      <th>outPix255</th>\n",
       "      <th>outPix256</th>\n",
       "      <th>y0</th>\n",
       "      <th>y1</th>\n",
       "    </tr>\n",
       "  </thead>\n",
       "  <tbody>\n",
       "    <tr>\n",
       "      <th>0</th>\n",
       "      <td>0.0</td>\n",
       "      <td>0.0</td>\n",
       "      <td>0.0</td>\n",
       "      <td>0.0</td>\n",
       "      <td>0.0</td>\n",
       "      <td>0.0</td>\n",
       "      <td>0.0</td>\n",
       "      <td>0.0</td>\n",
       "      <td>0.0</td>\n",
       "      <td>0.0</td>\n",
       "      <td>...</td>\n",
       "      <td>0.0</td>\n",
       "      <td>0.0</td>\n",
       "      <td>0.0</td>\n",
       "      <td>0.0</td>\n",
       "      <td>0.0</td>\n",
       "      <td>0.0</td>\n",
       "      <td>0.0</td>\n",
       "      <td>0.0</td>\n",
       "      <td>0.0</td>\n",
       "      <td>1.0</td>\n",
       "    </tr>\n",
       "    <tr>\n",
       "      <th>1</th>\n",
       "      <td>0.0</td>\n",
       "      <td>0.0</td>\n",
       "      <td>0.0</td>\n",
       "      <td>0.0</td>\n",
       "      <td>0.0</td>\n",
       "      <td>0.0</td>\n",
       "      <td>0.0</td>\n",
       "      <td>0.0</td>\n",
       "      <td>0.0</td>\n",
       "      <td>0.0</td>\n",
       "      <td>...</td>\n",
       "      <td>0.0</td>\n",
       "      <td>0.0</td>\n",
       "      <td>0.0</td>\n",
       "      <td>0.0</td>\n",
       "      <td>0.0</td>\n",
       "      <td>0.0</td>\n",
       "      <td>0.0</td>\n",
       "      <td>0.0</td>\n",
       "      <td>1.0</td>\n",
       "      <td>0.0</td>\n",
       "    </tr>\n",
       "    <tr>\n",
       "      <th>2</th>\n",
       "      <td>0.0</td>\n",
       "      <td>0.0</td>\n",
       "      <td>0.0</td>\n",
       "      <td>0.0</td>\n",
       "      <td>0.0</td>\n",
       "      <td>0.0</td>\n",
       "      <td>0.0</td>\n",
       "      <td>0.0</td>\n",
       "      <td>0.0</td>\n",
       "      <td>0.0</td>\n",
       "      <td>...</td>\n",
       "      <td>0.0</td>\n",
       "      <td>0.0</td>\n",
       "      <td>0.0</td>\n",
       "      <td>0.0</td>\n",
       "      <td>0.0</td>\n",
       "      <td>0.0</td>\n",
       "      <td>0.0</td>\n",
       "      <td>0.0</td>\n",
       "      <td>1.0</td>\n",
       "      <td>0.0</td>\n",
       "    </tr>\n",
       "    <tr>\n",
       "      <th>3</th>\n",
       "      <td>0.0</td>\n",
       "      <td>0.0</td>\n",
       "      <td>0.0</td>\n",
       "      <td>0.0</td>\n",
       "      <td>0.0</td>\n",
       "      <td>0.0</td>\n",
       "      <td>0.0</td>\n",
       "      <td>0.0</td>\n",
       "      <td>0.0</td>\n",
       "      <td>0.0</td>\n",
       "      <td>...</td>\n",
       "      <td>0.0</td>\n",
       "      <td>0.0</td>\n",
       "      <td>0.0</td>\n",
       "      <td>0.0</td>\n",
       "      <td>0.0</td>\n",
       "      <td>0.0</td>\n",
       "      <td>0.0</td>\n",
       "      <td>0.0</td>\n",
       "      <td>1.0</td>\n",
       "      <td>0.0</td>\n",
       "    </tr>\n",
       "    <tr>\n",
       "      <th>4</th>\n",
       "      <td>0.0</td>\n",
       "      <td>0.0</td>\n",
       "      <td>0.0</td>\n",
       "      <td>0.0</td>\n",
       "      <td>0.0</td>\n",
       "      <td>0.0</td>\n",
       "      <td>0.0</td>\n",
       "      <td>0.0</td>\n",
       "      <td>0.0</td>\n",
       "      <td>0.0</td>\n",
       "      <td>...</td>\n",
       "      <td>0.0</td>\n",
       "      <td>0.0</td>\n",
       "      <td>0.0</td>\n",
       "      <td>0.0</td>\n",
       "      <td>0.0</td>\n",
       "      <td>0.0</td>\n",
       "      <td>0.0</td>\n",
       "      <td>0.0</td>\n",
       "      <td>1.0</td>\n",
       "      <td>0.0</td>\n",
       "    </tr>\n",
       "  </tbody>\n",
       "</table>\n",
       "<p>5 rows × 514 columns</p>\n",
       "</div>"
      ],
      "text/plain": [
       "   inPix1  inPix2  inPix3  inPix4  inPix5  inPix6  inPix7  inPix8  inPix9  \\\n",
       "0     0.0     0.0     0.0     0.0     0.0     0.0     0.0     0.0     0.0   \n",
       "1     0.0     0.0     0.0     0.0     0.0     0.0     0.0     0.0     0.0   \n",
       "2     0.0     0.0     0.0     0.0     0.0     0.0     0.0     0.0     0.0   \n",
       "3     0.0     0.0     0.0     0.0     0.0     0.0     0.0     0.0     0.0   \n",
       "4     0.0     0.0     0.0     0.0     0.0     0.0     0.0     0.0     0.0   \n",
       "\n",
       "   inPix10 ...   outPix249  outPix250  outPix251  outPix252  outPix253  \\\n",
       "0      0.0 ...         0.0        0.0        0.0        0.0        0.0   \n",
       "1      0.0 ...         0.0        0.0        0.0        0.0        0.0   \n",
       "2      0.0 ...         0.0        0.0        0.0        0.0        0.0   \n",
       "3      0.0 ...         0.0        0.0        0.0        0.0        0.0   \n",
       "4      0.0 ...         0.0        0.0        0.0        0.0        0.0   \n",
       "\n",
       "   outPix254  outPix255  outPix256   y0   y1  \n",
       "0        0.0        0.0        0.0  0.0  1.0  \n",
       "1        0.0        0.0        0.0  1.0  0.0  \n",
       "2        0.0        0.0        0.0  1.0  0.0  \n",
       "3        0.0        0.0        0.0  1.0  0.0  \n",
       "4        0.0        0.0        0.0  1.0  0.0  \n",
       "\n",
       "[5 rows x 514 columns]"
      ]
     },
     "execution_count": 144,
     "metadata": {},
     "output_type": "execute_result"
    }
   ],
   "source": [
    "test_df.head()"
   ]
  },
  {
   "cell_type": "code",
   "execution_count": 149,
   "metadata": {},
   "outputs": [
    {
     "data": {
      "text/plain": [
       "(88664, 2, 16, 16)"
      ]
     },
     "execution_count": 149,
     "metadata": {},
     "output_type": "execute_result"
    }
   ],
   "source": [
    "X_test_hist = test_df[inPixels+outPixels].values.reshape(-1,2,16,16)\n",
    "X_test_hist.shape"
   ]
  },
  {
   "cell_type": "code",
   "execution_count": 150,
   "metadata": {},
   "outputs": [],
   "source": [
    "y_test = test_df[[\"y0\",\"y1\"]].values.reshape(-1,2)"
   ]
  },
  {
   "cell_type": "code",
   "execution_count": 151,
   "metadata": {},
   "outputs": [
    {
     "name": "stdout",
     "output_type": "stream",
     "text": [
      "88664/88664 [==============================] - 5s 51us/step\n",
      "Test loss / test AUC       = 0.6610 / 0.7073 \n",
      "Test acc /  acc max (@t)   = 0.6587 / 0.6590 (0.479)\n"
     ]
    }
   ],
   "source": [
    "loss, acc = model.evaluate(X_test_hit, y_test, batch_size=2048)\n",
    "test_pred = model.predict(X_test_hit)\n",
    "test_roc = roc_auc_score(y_test, test_pred)\n",
    "test_acc,t_test = max_binary_accuracy(y_test,test_pred,n=1000)\n",
    "print('Test loss / test AUC       = {:.4f} / {:.4f} '.format(loss,test_roc))\n",
    "print('Test acc /  acc max (@t)   = {:.4f} / {:.4f} ({:.3f})'.format(acc,test_acc,t_test))"
   ]
  },
  {
   "cell_type": "code",
   "execution_count": 156,
   "metadata": {},
   "outputs": [
    {
     "name": "stdout",
     "output_type": "stream",
     "text": [
      "Zipping\n"
     ]
    }
   ],
   "source": [
    "print \"Zipping\"\n",
    "!gzip -1 pixel_only_data*.h5"
   ]
  },
  {
   "cell_type": "code",
   "execution_count": 157,
   "metadata": {},
   "outputs": [
    {
     "name": "stdout",
     "output_type": "stream",
     "text": [
      "/lustre/home/adrianodif/CNNDoublets/jupyters\r\n"
     ]
    }
   ],
   "source": [
    "!pwd"
   ]
  },
  {
   "cell_type": "code",
   "execution_count": null,
   "metadata": {},
   "outputs": [],
   "source": []
  }
 ],
 "metadata": {
  "kernelspec": {
   "display_name": "Python 2",
   "language": "python",
   "name": "python2"
  },
  "language_info": {
   "codemirror_mode": {
    "name": "ipython",
    "version": 2
   },
   "file_extension": ".py",
   "mimetype": "text/x-python",
   "name": "python",
   "nbconvert_exporter": "python",
   "pygments_lexer": "ipython2",
   "version": "2.7.11"
  }
 },
 "nbformat": 4,
 "nbformat_minor": 2
}
